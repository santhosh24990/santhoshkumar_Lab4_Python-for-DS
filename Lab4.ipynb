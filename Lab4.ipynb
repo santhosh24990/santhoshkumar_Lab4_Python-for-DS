{
 "cells": [
  {
   "cell_type": "markdown",
   "id": "4328ea2e",
   "metadata": {},
   "source": [
    "#### 1. Import required libraries\n"
   ]
  },
  {
   "cell_type": "code",
   "execution_count": 1008,
   "id": "2a0fdb7d",
   "metadata": {},
   "outputs": [],
   "source": [
    "import pandas as pd\n",
    "import numpy as np\n",
    "import matplotlib.pyplot as plt\n",
    "import seaborn as sns\n",
    "from sklearn.model_selection import train_test_split\n",
    "from sklearn.metrics import classification_report,confusion_matrix,accuracy_score,roc_curve,auc,roc_auc_score\n",
    "from sklearn.preprocessing import StandardScaler, MinMaxScaler , LabelEncoder\n",
    "from sklearn.metrics import r2_score\n",
    "from sklearn.ensemble import RandomForestClassifier\n",
    "from sklearn.decomposition import PCA\n",
    "from sklearn.cluster import KMeans\n",
    "from sklearn.cluster import AgglomerativeClustering\n",
    "from scipy.cluster.hierarchy import dendrogram, linkage\n",
    "from sklearn.discriminant_analysis import LinearDiscriminantAnalysis\n",
    "\n",
    "import warnings\n",
    "warnings.filterwarnings('ignore')"
   ]
  },
  {
   "cell_type": "markdown",
   "id": "3e377700",
   "metadata": {},
   "source": [
    "### 2. Load the CSV file (i.e marketing.csv) and display the first 5 rows of the dataframe. Check the shape and info of the dataset."
   ]
  },
  {
   "cell_type": "code",
   "execution_count": 1009,
   "id": "0b04e4f0",
   "metadata": {},
   "outputs": [
    {
     "data": {
      "text/html": [
       "<div>\n",
       "<style scoped>\n",
       "    .dataframe tbody tr th:only-of-type {\n",
       "        vertical-align: middle;\n",
       "    }\n",
       "\n",
       "    .dataframe tbody tr th {\n",
       "        vertical-align: top;\n",
       "    }\n",
       "\n",
       "    .dataframe thead th {\n",
       "        text-align: right;\n",
       "    }\n",
       "</style>\n",
       "<table border=\"1\" class=\"dataframe\">\n",
       "  <thead>\n",
       "    <tr style=\"text-align: right;\">\n",
       "      <th></th>\n",
       "      <th>ID</th>\n",
       "      <th>Year_Birth</th>\n",
       "      <th>Education</th>\n",
       "      <th>Marital_Status</th>\n",
       "      <th>Income</th>\n",
       "      <th>Kidhome</th>\n",
       "      <th>Teenhome</th>\n",
       "      <th>Dt_Customer</th>\n",
       "      <th>Recency</th>\n",
       "      <th>MntWines</th>\n",
       "      <th>...</th>\n",
       "      <th>NumCatalogPurchases</th>\n",
       "      <th>NumStorePurchases</th>\n",
       "      <th>NumWebVisitsMonth</th>\n",
       "      <th>AcceptedCmp3</th>\n",
       "      <th>AcceptedCmp4</th>\n",
       "      <th>AcceptedCmp5</th>\n",
       "      <th>AcceptedCmp1</th>\n",
       "      <th>AcceptedCmp2</th>\n",
       "      <th>Complain</th>\n",
       "      <th>Response</th>\n",
       "    </tr>\n",
       "  </thead>\n",
       "  <tbody>\n",
       "    <tr>\n",
       "      <th>0</th>\n",
       "      <td>5524</td>\n",
       "      <td>1957</td>\n",
       "      <td>Graduation</td>\n",
       "      <td>Single</td>\n",
       "      <td>58138.0</td>\n",
       "      <td>0</td>\n",
       "      <td>0</td>\n",
       "      <td>4/9/2012</td>\n",
       "      <td>58</td>\n",
       "      <td>635</td>\n",
       "      <td>...</td>\n",
       "      <td>10</td>\n",
       "      <td>4</td>\n",
       "      <td>7</td>\n",
       "      <td>0</td>\n",
       "      <td>0</td>\n",
       "      <td>0</td>\n",
       "      <td>0</td>\n",
       "      <td>0</td>\n",
       "      <td>0</td>\n",
       "      <td>1</td>\n",
       "    </tr>\n",
       "    <tr>\n",
       "      <th>1</th>\n",
       "      <td>2174</td>\n",
       "      <td>1954</td>\n",
       "      <td>Graduation</td>\n",
       "      <td>Single</td>\n",
       "      <td>46344.0</td>\n",
       "      <td>1</td>\n",
       "      <td>1</td>\n",
       "      <td>8/3/2014</td>\n",
       "      <td>38</td>\n",
       "      <td>11</td>\n",
       "      <td>...</td>\n",
       "      <td>1</td>\n",
       "      <td>2</td>\n",
       "      <td>5</td>\n",
       "      <td>0</td>\n",
       "      <td>0</td>\n",
       "      <td>0</td>\n",
       "      <td>0</td>\n",
       "      <td>0</td>\n",
       "      <td>0</td>\n",
       "      <td>0</td>\n",
       "    </tr>\n",
       "    <tr>\n",
       "      <th>2</th>\n",
       "      <td>4141</td>\n",
       "      <td>1965</td>\n",
       "      <td>Graduation</td>\n",
       "      <td>Together</td>\n",
       "      <td>71613.0</td>\n",
       "      <td>0</td>\n",
       "      <td>0</td>\n",
       "      <td>21-08-2013</td>\n",
       "      <td>26</td>\n",
       "      <td>426</td>\n",
       "      <td>...</td>\n",
       "      <td>2</td>\n",
       "      <td>10</td>\n",
       "      <td>4</td>\n",
       "      <td>0</td>\n",
       "      <td>0</td>\n",
       "      <td>0</td>\n",
       "      <td>0</td>\n",
       "      <td>0</td>\n",
       "      <td>0</td>\n",
       "      <td>0</td>\n",
       "    </tr>\n",
       "    <tr>\n",
       "      <th>3</th>\n",
       "      <td>6182</td>\n",
       "      <td>1984</td>\n",
       "      <td>Graduation</td>\n",
       "      <td>Together</td>\n",
       "      <td>26646.0</td>\n",
       "      <td>1</td>\n",
       "      <td>0</td>\n",
       "      <td>10/2/2014</td>\n",
       "      <td>26</td>\n",
       "      <td>11</td>\n",
       "      <td>...</td>\n",
       "      <td>0</td>\n",
       "      <td>4</td>\n",
       "      <td>6</td>\n",
       "      <td>0</td>\n",
       "      <td>0</td>\n",
       "      <td>0</td>\n",
       "      <td>0</td>\n",
       "      <td>0</td>\n",
       "      <td>0</td>\n",
       "      <td>0</td>\n",
       "    </tr>\n",
       "    <tr>\n",
       "      <th>4</th>\n",
       "      <td>5324</td>\n",
       "      <td>1981</td>\n",
       "      <td>PhD</td>\n",
       "      <td>Married</td>\n",
       "      <td>58293.0</td>\n",
       "      <td>1</td>\n",
       "      <td>0</td>\n",
       "      <td>19-01-2014</td>\n",
       "      <td>94</td>\n",
       "      <td>173</td>\n",
       "      <td>...</td>\n",
       "      <td>3</td>\n",
       "      <td>6</td>\n",
       "      <td>5</td>\n",
       "      <td>0</td>\n",
       "      <td>0</td>\n",
       "      <td>0</td>\n",
       "      <td>0</td>\n",
       "      <td>0</td>\n",
       "      <td>0</td>\n",
       "      <td>0</td>\n",
       "    </tr>\n",
       "  </tbody>\n",
       "</table>\n",
       "<p>5 rows × 27 columns</p>\n",
       "</div>"
      ],
      "text/plain": [
       "     ID  Year_Birth   Education Marital_Status   Income  Kidhome  Teenhome   \n",
       "0  5524        1957  Graduation         Single  58138.0        0         0  \\\n",
       "1  2174        1954  Graduation         Single  46344.0        1         1   \n",
       "2  4141        1965  Graduation       Together  71613.0        0         0   \n",
       "3  6182        1984  Graduation       Together  26646.0        1         0   \n",
       "4  5324        1981         PhD        Married  58293.0        1         0   \n",
       "\n",
       "  Dt_Customer  Recency  MntWines  ...  NumCatalogPurchases  NumStorePurchases   \n",
       "0    4/9/2012       58       635  ...                   10                  4  \\\n",
       "1    8/3/2014       38        11  ...                    1                  2   \n",
       "2  21-08-2013       26       426  ...                    2                 10   \n",
       "3   10/2/2014       26        11  ...                    0                  4   \n",
       "4  19-01-2014       94       173  ...                    3                  6   \n",
       "\n",
       "   NumWebVisitsMonth  AcceptedCmp3  AcceptedCmp4  AcceptedCmp5  AcceptedCmp1   \n",
       "0                  7             0             0             0             0  \\\n",
       "1                  5             0             0             0             0   \n",
       "2                  4             0             0             0             0   \n",
       "3                  6             0             0             0             0   \n",
       "4                  5             0             0             0             0   \n",
       "\n",
       "   AcceptedCmp2  Complain  Response  \n",
       "0             0         0         1  \n",
       "1             0         0         0  \n",
       "2             0         0         0  \n",
       "3             0         0         0  \n",
       "4             0         0         0  \n",
       "\n",
       "[5 rows x 27 columns]"
      ]
     },
     "execution_count": 1009,
     "metadata": {},
     "output_type": "execute_result"
    }
   ],
   "source": [
    "df=pd.read_csv(\"marketing.csv\")\n",
    "df.head()"
   ]
  },
  {
   "cell_type": "code",
   "execution_count": 1010,
   "id": "469e34d4",
   "metadata": {},
   "outputs": [
    {
     "data": {
      "text/plain": [
       "(2240, 27)"
      ]
     },
     "execution_count": 1010,
     "metadata": {},
     "output_type": "execute_result"
    }
   ],
   "source": [
    "#shape of the dataset\n",
    "df.shape"
   ]
  },
  {
   "cell_type": "code",
   "execution_count": 1011,
   "id": "054eb558",
   "metadata": {
    "scrolled": true
   },
   "outputs": [
    {
     "name": "stdout",
     "output_type": "stream",
     "text": [
      "<class 'pandas.core.frame.DataFrame'>\n",
      "RangeIndex: 2240 entries, 0 to 2239\n",
      "Data columns (total 27 columns):\n",
      " #   Column               Non-Null Count  Dtype  \n",
      "---  ------               --------------  -----  \n",
      " 0   ID                   2240 non-null   int64  \n",
      " 1   Year_Birth           2240 non-null   int64  \n",
      " 2   Education            2240 non-null   object \n",
      " 3   Marital_Status       2240 non-null   object \n",
      " 4   Income               2216 non-null   float64\n",
      " 5   Kidhome              2240 non-null   int64  \n",
      " 6   Teenhome             2240 non-null   int64  \n",
      " 7   Dt_Customer          2240 non-null   object \n",
      " 8   Recency              2240 non-null   int64  \n",
      " 9   MntWines             2240 non-null   int64  \n",
      " 10  MntFruits            2240 non-null   int64  \n",
      " 11  MntMeatProducts      2240 non-null   int64  \n",
      " 12  MntFishProducts      2240 non-null   int64  \n",
      " 13  MntSweetProducts     2240 non-null   int64  \n",
      " 14  MntGoldProds         2240 non-null   int64  \n",
      " 15  NumDealsPurchases    2240 non-null   int64  \n",
      " 16  NumWebPurchases      2240 non-null   int64  \n",
      " 17  NumCatalogPurchases  2240 non-null   int64  \n",
      " 18  NumStorePurchases    2240 non-null   int64  \n",
      " 19  NumWebVisitsMonth    2240 non-null   int64  \n",
      " 20  AcceptedCmp3         2240 non-null   int64  \n",
      " 21  AcceptedCmp4         2240 non-null   int64  \n",
      " 22  AcceptedCmp5         2240 non-null   int64  \n",
      " 23  AcceptedCmp1         2240 non-null   int64  \n",
      " 24  AcceptedCmp2         2240 non-null   int64  \n",
      " 25  Complain             2240 non-null   int64  \n",
      " 26  Response             2240 non-null   int64  \n",
      "dtypes: float64(1), int64(23), object(3)\n",
      "memory usage: 472.6+ KB\n"
     ]
    }
   ],
   "source": [
    "#info of the dataset\n",
    "df.info()"
   ]
  },
  {
   "cell_type": "markdown",
   "id": "325b8920",
   "metadata": {},
   "source": [
    "### 3. Check the percentage of missing values? If there is presence of missing values, treat them accordingly."
   ]
  },
  {
   "cell_type": "code",
   "execution_count": 1012,
   "id": "07a7b06a",
   "metadata": {},
   "outputs": [
    {
     "data": {
      "text/plain": [
       "ID                     0.000000\n",
       "Year_Birth             0.000000\n",
       "Education              0.000000\n",
       "Marital_Status         0.000000\n",
       "Income                 1.071429\n",
       "Kidhome                0.000000\n",
       "Teenhome               0.000000\n",
       "Dt_Customer            0.000000\n",
       "Recency                0.000000\n",
       "MntWines               0.000000\n",
       "MntFruits              0.000000\n",
       "MntMeatProducts        0.000000\n",
       "MntFishProducts        0.000000\n",
       "MntSweetProducts       0.000000\n",
       "MntGoldProds           0.000000\n",
       "NumDealsPurchases      0.000000\n",
       "NumWebPurchases        0.000000\n",
       "NumCatalogPurchases    0.000000\n",
       "NumStorePurchases      0.000000\n",
       "NumWebVisitsMonth      0.000000\n",
       "AcceptedCmp3           0.000000\n",
       "AcceptedCmp4           0.000000\n",
       "AcceptedCmp5           0.000000\n",
       "AcceptedCmp1           0.000000\n",
       "AcceptedCmp2           0.000000\n",
       "Complain               0.000000\n",
       "Response               0.000000\n",
       "dtype: float64"
      ]
     },
     "execution_count": 1012,
     "metadata": {},
     "output_type": "execute_result"
    }
   ],
   "source": [
    "#percentage of missing values\n",
    "df.isna().sum()/len(df)*100"
   ]
  },
  {
   "cell_type": "code",
   "execution_count": 1013,
   "id": "488369ed",
   "metadata": {},
   "outputs": [
    {
     "data": {
      "text/html": [
       "<div>\n",
       "<style scoped>\n",
       "    .dataframe tbody tr th:only-of-type {\n",
       "        vertical-align: middle;\n",
       "    }\n",
       "\n",
       "    .dataframe tbody tr th {\n",
       "        vertical-align: top;\n",
       "    }\n",
       "\n",
       "    .dataframe thead th {\n",
       "        text-align: right;\n",
       "    }\n",
       "</style>\n",
       "<table border=\"1\" class=\"dataframe\">\n",
       "  <thead>\n",
       "    <tr style=\"text-align: right;\">\n",
       "      <th></th>\n",
       "      <th>ID</th>\n",
       "      <th>Year_Birth</th>\n",
       "      <th>Education</th>\n",
       "      <th>Marital_Status</th>\n",
       "      <th>Income</th>\n",
       "      <th>Kidhome</th>\n",
       "      <th>Teenhome</th>\n",
       "      <th>Dt_Customer</th>\n",
       "      <th>Recency</th>\n",
       "      <th>MntWines</th>\n",
       "      <th>...</th>\n",
       "      <th>NumCatalogPurchases</th>\n",
       "      <th>NumStorePurchases</th>\n",
       "      <th>NumWebVisitsMonth</th>\n",
       "      <th>AcceptedCmp3</th>\n",
       "      <th>AcceptedCmp4</th>\n",
       "      <th>AcceptedCmp5</th>\n",
       "      <th>AcceptedCmp1</th>\n",
       "      <th>AcceptedCmp2</th>\n",
       "      <th>Complain</th>\n",
       "      <th>Response</th>\n",
       "    </tr>\n",
       "  </thead>\n",
       "  <tbody>\n",
       "    <tr>\n",
       "      <th>10</th>\n",
       "      <td>1994</td>\n",
       "      <td>1983</td>\n",
       "      <td>Graduation</td>\n",
       "      <td>Married</td>\n",
       "      <td>NaN</td>\n",
       "      <td>1</td>\n",
       "      <td>0</td>\n",
       "      <td>15-11-2013</td>\n",
       "      <td>11</td>\n",
       "      <td>5</td>\n",
       "      <td>...</td>\n",
       "      <td>0</td>\n",
       "      <td>2</td>\n",
       "      <td>7</td>\n",
       "      <td>0</td>\n",
       "      <td>0</td>\n",
       "      <td>0</td>\n",
       "      <td>0</td>\n",
       "      <td>0</td>\n",
       "      <td>0</td>\n",
       "      <td>0</td>\n",
       "    </tr>\n",
       "    <tr>\n",
       "      <th>27</th>\n",
       "      <td>5255</td>\n",
       "      <td>1986</td>\n",
       "      <td>Graduation</td>\n",
       "      <td>Single</td>\n",
       "      <td>NaN</td>\n",
       "      <td>1</td>\n",
       "      <td>0</td>\n",
       "      <td>20-02-2013</td>\n",
       "      <td>19</td>\n",
       "      <td>5</td>\n",
       "      <td>...</td>\n",
       "      <td>0</td>\n",
       "      <td>0</td>\n",
       "      <td>1</td>\n",
       "      <td>0</td>\n",
       "      <td>0</td>\n",
       "      <td>0</td>\n",
       "      <td>0</td>\n",
       "      <td>0</td>\n",
       "      <td>0</td>\n",
       "      <td>0</td>\n",
       "    </tr>\n",
       "    <tr>\n",
       "      <th>43</th>\n",
       "      <td>7281</td>\n",
       "      <td>1959</td>\n",
       "      <td>PhD</td>\n",
       "      <td>Single</td>\n",
       "      <td>NaN</td>\n",
       "      <td>0</td>\n",
       "      <td>0</td>\n",
       "      <td>5/11/2013</td>\n",
       "      <td>80</td>\n",
       "      <td>81</td>\n",
       "      <td>...</td>\n",
       "      <td>3</td>\n",
       "      <td>4</td>\n",
       "      <td>2</td>\n",
       "      <td>0</td>\n",
       "      <td>0</td>\n",
       "      <td>0</td>\n",
       "      <td>0</td>\n",
       "      <td>0</td>\n",
       "      <td>0</td>\n",
       "      <td>0</td>\n",
       "    </tr>\n",
       "    <tr>\n",
       "      <th>48</th>\n",
       "      <td>7244</td>\n",
       "      <td>1951</td>\n",
       "      <td>Graduation</td>\n",
       "      <td>Single</td>\n",
       "      <td>NaN</td>\n",
       "      <td>2</td>\n",
       "      <td>1</td>\n",
       "      <td>1/1/2014</td>\n",
       "      <td>96</td>\n",
       "      <td>48</td>\n",
       "      <td>...</td>\n",
       "      <td>1</td>\n",
       "      <td>4</td>\n",
       "      <td>6</td>\n",
       "      <td>0</td>\n",
       "      <td>0</td>\n",
       "      <td>0</td>\n",
       "      <td>0</td>\n",
       "      <td>0</td>\n",
       "      <td>0</td>\n",
       "      <td>0</td>\n",
       "    </tr>\n",
       "    <tr>\n",
       "      <th>58</th>\n",
       "      <td>8557</td>\n",
       "      <td>1982</td>\n",
       "      <td>Graduation</td>\n",
       "      <td>Single</td>\n",
       "      <td>NaN</td>\n",
       "      <td>1</td>\n",
       "      <td>0</td>\n",
       "      <td>17-06-2013</td>\n",
       "      <td>57</td>\n",
       "      <td>11</td>\n",
       "      <td>...</td>\n",
       "      <td>0</td>\n",
       "      <td>3</td>\n",
       "      <td>6</td>\n",
       "      <td>0</td>\n",
       "      <td>0</td>\n",
       "      <td>0</td>\n",
       "      <td>0</td>\n",
       "      <td>0</td>\n",
       "      <td>0</td>\n",
       "      <td>0</td>\n",
       "    </tr>\n",
       "    <tr>\n",
       "      <th>71</th>\n",
       "      <td>10629</td>\n",
       "      <td>1973</td>\n",
       "      <td>2n Cycle</td>\n",
       "      <td>Married</td>\n",
       "      <td>NaN</td>\n",
       "      <td>1</td>\n",
       "      <td>0</td>\n",
       "      <td>14-09-2012</td>\n",
       "      <td>25</td>\n",
       "      <td>25</td>\n",
       "      <td>...</td>\n",
       "      <td>0</td>\n",
       "      <td>3</td>\n",
       "      <td>8</td>\n",
       "      <td>0</td>\n",
       "      <td>0</td>\n",
       "      <td>0</td>\n",
       "      <td>0</td>\n",
       "      <td>0</td>\n",
       "      <td>0</td>\n",
       "      <td>0</td>\n",
       "    </tr>\n",
       "    <tr>\n",
       "      <th>90</th>\n",
       "      <td>8996</td>\n",
       "      <td>1957</td>\n",
       "      <td>PhD</td>\n",
       "      <td>Married</td>\n",
       "      <td>NaN</td>\n",
       "      <td>2</td>\n",
       "      <td>1</td>\n",
       "      <td>19-11-2012</td>\n",
       "      <td>4</td>\n",
       "      <td>230</td>\n",
       "      <td>...</td>\n",
       "      <td>2</td>\n",
       "      <td>8</td>\n",
       "      <td>9</td>\n",
       "      <td>0</td>\n",
       "      <td>0</td>\n",
       "      <td>0</td>\n",
       "      <td>0</td>\n",
       "      <td>0</td>\n",
       "      <td>0</td>\n",
       "      <td>0</td>\n",
       "    </tr>\n",
       "    <tr>\n",
       "      <th>91</th>\n",
       "      <td>9235</td>\n",
       "      <td>1957</td>\n",
       "      <td>Graduation</td>\n",
       "      <td>Single</td>\n",
       "      <td>NaN</td>\n",
       "      <td>1</td>\n",
       "      <td>1</td>\n",
       "      <td>27-05-2014</td>\n",
       "      <td>45</td>\n",
       "      <td>7</td>\n",
       "      <td>...</td>\n",
       "      <td>0</td>\n",
       "      <td>2</td>\n",
       "      <td>7</td>\n",
       "      <td>0</td>\n",
       "      <td>0</td>\n",
       "      <td>0</td>\n",
       "      <td>0</td>\n",
       "      <td>0</td>\n",
       "      <td>0</td>\n",
       "      <td>0</td>\n",
       "    </tr>\n",
       "    <tr>\n",
       "      <th>92</th>\n",
       "      <td>5798</td>\n",
       "      <td>1973</td>\n",
       "      <td>Master</td>\n",
       "      <td>Together</td>\n",
       "      <td>NaN</td>\n",
       "      <td>0</td>\n",
       "      <td>0</td>\n",
       "      <td>23-11-2013</td>\n",
       "      <td>87</td>\n",
       "      <td>445</td>\n",
       "      <td>...</td>\n",
       "      <td>4</td>\n",
       "      <td>8</td>\n",
       "      <td>1</td>\n",
       "      <td>0</td>\n",
       "      <td>0</td>\n",
       "      <td>0</td>\n",
       "      <td>0</td>\n",
       "      <td>0</td>\n",
       "      <td>0</td>\n",
       "      <td>0</td>\n",
       "    </tr>\n",
       "    <tr>\n",
       "      <th>128</th>\n",
       "      <td>8268</td>\n",
       "      <td>1961</td>\n",
       "      <td>PhD</td>\n",
       "      <td>Married</td>\n",
       "      <td>NaN</td>\n",
       "      <td>0</td>\n",
       "      <td>1</td>\n",
       "      <td>11/7/2013</td>\n",
       "      <td>23</td>\n",
       "      <td>352</td>\n",
       "      <td>...</td>\n",
       "      <td>1</td>\n",
       "      <td>7</td>\n",
       "      <td>6</td>\n",
       "      <td>0</td>\n",
       "      <td>0</td>\n",
       "      <td>0</td>\n",
       "      <td>0</td>\n",
       "      <td>0</td>\n",
       "      <td>0</td>\n",
       "      <td>0</td>\n",
       "    </tr>\n",
       "    <tr>\n",
       "      <th>133</th>\n",
       "      <td>1295</td>\n",
       "      <td>1963</td>\n",
       "      <td>Graduation</td>\n",
       "      <td>Married</td>\n",
       "      <td>NaN</td>\n",
       "      <td>0</td>\n",
       "      <td>1</td>\n",
       "      <td>11/8/2013</td>\n",
       "      <td>96</td>\n",
       "      <td>231</td>\n",
       "      <td>...</td>\n",
       "      <td>5</td>\n",
       "      <td>7</td>\n",
       "      <td>4</td>\n",
       "      <td>0</td>\n",
       "      <td>0</td>\n",
       "      <td>0</td>\n",
       "      <td>0</td>\n",
       "      <td>0</td>\n",
       "      <td>0</td>\n",
       "      <td>0</td>\n",
       "    </tr>\n",
       "    <tr>\n",
       "      <th>312</th>\n",
       "      <td>2437</td>\n",
       "      <td>1989</td>\n",
       "      <td>Graduation</td>\n",
       "      <td>Married</td>\n",
       "      <td>NaN</td>\n",
       "      <td>0</td>\n",
       "      <td>0</td>\n",
       "      <td>3/6/2013</td>\n",
       "      <td>69</td>\n",
       "      <td>861</td>\n",
       "      <td>...</td>\n",
       "      <td>5</td>\n",
       "      <td>12</td>\n",
       "      <td>3</td>\n",
       "      <td>0</td>\n",
       "      <td>1</td>\n",
       "      <td>0</td>\n",
       "      <td>1</td>\n",
       "      <td>0</td>\n",
       "      <td>0</td>\n",
       "      <td>0</td>\n",
       "    </tr>\n",
       "    <tr>\n",
       "      <th>319</th>\n",
       "      <td>2863</td>\n",
       "      <td>1970</td>\n",
       "      <td>Graduation</td>\n",
       "      <td>Single</td>\n",
       "      <td>NaN</td>\n",
       "      <td>1</td>\n",
       "      <td>2</td>\n",
       "      <td>23-08-2013</td>\n",
       "      <td>67</td>\n",
       "      <td>738</td>\n",
       "      <td>...</td>\n",
       "      <td>3</td>\n",
       "      <td>10</td>\n",
       "      <td>7</td>\n",
       "      <td>0</td>\n",
       "      <td>1</td>\n",
       "      <td>0</td>\n",
       "      <td>1</td>\n",
       "      <td>0</td>\n",
       "      <td>0</td>\n",
       "      <td>0</td>\n",
       "    </tr>\n",
       "    <tr>\n",
       "      <th>1379</th>\n",
       "      <td>10475</td>\n",
       "      <td>1970</td>\n",
       "      <td>Master</td>\n",
       "      <td>Together</td>\n",
       "      <td>NaN</td>\n",
       "      <td>0</td>\n",
       "      <td>1</td>\n",
       "      <td>1/4/2013</td>\n",
       "      <td>39</td>\n",
       "      <td>187</td>\n",
       "      <td>...</td>\n",
       "      <td>2</td>\n",
       "      <td>6</td>\n",
       "      <td>5</td>\n",
       "      <td>0</td>\n",
       "      <td>0</td>\n",
       "      <td>0</td>\n",
       "      <td>0</td>\n",
       "      <td>0</td>\n",
       "      <td>0</td>\n",
       "      <td>0</td>\n",
       "    </tr>\n",
       "    <tr>\n",
       "      <th>1382</th>\n",
       "      <td>2902</td>\n",
       "      <td>1958</td>\n",
       "      <td>Graduation</td>\n",
       "      <td>Together</td>\n",
       "      <td>NaN</td>\n",
       "      <td>1</td>\n",
       "      <td>1</td>\n",
       "      <td>3/9/2012</td>\n",
       "      <td>87</td>\n",
       "      <td>19</td>\n",
       "      <td>...</td>\n",
       "      <td>0</td>\n",
       "      <td>3</td>\n",
       "      <td>5</td>\n",
       "      <td>0</td>\n",
       "      <td>0</td>\n",
       "      <td>0</td>\n",
       "      <td>0</td>\n",
       "      <td>0</td>\n",
       "      <td>0</td>\n",
       "      <td>0</td>\n",
       "    </tr>\n",
       "    <tr>\n",
       "      <th>1383</th>\n",
       "      <td>4345</td>\n",
       "      <td>1964</td>\n",
       "      <td>2n Cycle</td>\n",
       "      <td>Single</td>\n",
       "      <td>NaN</td>\n",
       "      <td>1</td>\n",
       "      <td>1</td>\n",
       "      <td>12/1/2014</td>\n",
       "      <td>49</td>\n",
       "      <td>5</td>\n",
       "      <td>...</td>\n",
       "      <td>0</td>\n",
       "      <td>2</td>\n",
       "      <td>7</td>\n",
       "      <td>0</td>\n",
       "      <td>0</td>\n",
       "      <td>0</td>\n",
       "      <td>0</td>\n",
       "      <td>0</td>\n",
       "      <td>0</td>\n",
       "      <td>0</td>\n",
       "    </tr>\n",
       "    <tr>\n",
       "      <th>1386</th>\n",
       "      <td>3769</td>\n",
       "      <td>1972</td>\n",
       "      <td>PhD</td>\n",
       "      <td>Together</td>\n",
       "      <td>NaN</td>\n",
       "      <td>1</td>\n",
       "      <td>0</td>\n",
       "      <td>2/3/2014</td>\n",
       "      <td>17</td>\n",
       "      <td>25</td>\n",
       "      <td>...</td>\n",
       "      <td>0</td>\n",
       "      <td>3</td>\n",
       "      <td>7</td>\n",
       "      <td>0</td>\n",
       "      <td>0</td>\n",
       "      <td>0</td>\n",
       "      <td>0</td>\n",
       "      <td>0</td>\n",
       "      <td>0</td>\n",
       "      <td>0</td>\n",
       "    </tr>\n",
       "    <tr>\n",
       "      <th>2059</th>\n",
       "      <td>7187</td>\n",
       "      <td>1969</td>\n",
       "      <td>Master</td>\n",
       "      <td>Together</td>\n",
       "      <td>NaN</td>\n",
       "      <td>1</td>\n",
       "      <td>1</td>\n",
       "      <td>18-05-2013</td>\n",
       "      <td>52</td>\n",
       "      <td>375</td>\n",
       "      <td>...</td>\n",
       "      <td>10</td>\n",
       "      <td>4</td>\n",
       "      <td>3</td>\n",
       "      <td>0</td>\n",
       "      <td>0</td>\n",
       "      <td>0</td>\n",
       "      <td>0</td>\n",
       "      <td>0</td>\n",
       "      <td>0</td>\n",
       "      <td>0</td>\n",
       "    </tr>\n",
       "    <tr>\n",
       "      <th>2061</th>\n",
       "      <td>1612</td>\n",
       "      <td>1981</td>\n",
       "      <td>PhD</td>\n",
       "      <td>Single</td>\n",
       "      <td>NaN</td>\n",
       "      <td>1</td>\n",
       "      <td>0</td>\n",
       "      <td>31-05-2013</td>\n",
       "      <td>82</td>\n",
       "      <td>23</td>\n",
       "      <td>...</td>\n",
       "      <td>0</td>\n",
       "      <td>3</td>\n",
       "      <td>6</td>\n",
       "      <td>0</td>\n",
       "      <td>0</td>\n",
       "      <td>0</td>\n",
       "      <td>0</td>\n",
       "      <td>0</td>\n",
       "      <td>0</td>\n",
       "      <td>0</td>\n",
       "    </tr>\n",
       "    <tr>\n",
       "      <th>2078</th>\n",
       "      <td>5079</td>\n",
       "      <td>1971</td>\n",
       "      <td>Graduation</td>\n",
       "      <td>Married</td>\n",
       "      <td>NaN</td>\n",
       "      <td>1</td>\n",
       "      <td>1</td>\n",
       "      <td>3/3/2013</td>\n",
       "      <td>82</td>\n",
       "      <td>71</td>\n",
       "      <td>...</td>\n",
       "      <td>1</td>\n",
       "      <td>3</td>\n",
       "      <td>8</td>\n",
       "      <td>0</td>\n",
       "      <td>0</td>\n",
       "      <td>0</td>\n",
       "      <td>0</td>\n",
       "      <td>0</td>\n",
       "      <td>0</td>\n",
       "      <td>0</td>\n",
       "    </tr>\n",
       "    <tr>\n",
       "      <th>2079</th>\n",
       "      <td>10339</td>\n",
       "      <td>1954</td>\n",
       "      <td>Master</td>\n",
       "      <td>Together</td>\n",
       "      <td>NaN</td>\n",
       "      <td>0</td>\n",
       "      <td>1</td>\n",
       "      <td>23-06-2013</td>\n",
       "      <td>83</td>\n",
       "      <td>161</td>\n",
       "      <td>...</td>\n",
       "      <td>1</td>\n",
       "      <td>4</td>\n",
       "      <td>6</td>\n",
       "      <td>0</td>\n",
       "      <td>0</td>\n",
       "      <td>0</td>\n",
       "      <td>0</td>\n",
       "      <td>0</td>\n",
       "      <td>0</td>\n",
       "      <td>0</td>\n",
       "    </tr>\n",
       "    <tr>\n",
       "      <th>2081</th>\n",
       "      <td>3117</td>\n",
       "      <td>1955</td>\n",
       "      <td>Graduation</td>\n",
       "      <td>Single</td>\n",
       "      <td>NaN</td>\n",
       "      <td>0</td>\n",
       "      <td>1</td>\n",
       "      <td>18-10-2013</td>\n",
       "      <td>95</td>\n",
       "      <td>264</td>\n",
       "      <td>...</td>\n",
       "      <td>1</td>\n",
       "      <td>5</td>\n",
       "      <td>7</td>\n",
       "      <td>0</td>\n",
       "      <td>0</td>\n",
       "      <td>0</td>\n",
       "      <td>0</td>\n",
       "      <td>0</td>\n",
       "      <td>0</td>\n",
       "      <td>0</td>\n",
       "    </tr>\n",
       "    <tr>\n",
       "      <th>2084</th>\n",
       "      <td>5250</td>\n",
       "      <td>1943</td>\n",
       "      <td>Master</td>\n",
       "      <td>Widow</td>\n",
       "      <td>NaN</td>\n",
       "      <td>0</td>\n",
       "      <td>0</td>\n",
       "      <td>30-10-2013</td>\n",
       "      <td>75</td>\n",
       "      <td>532</td>\n",
       "      <td>...</td>\n",
       "      <td>5</td>\n",
       "      <td>11</td>\n",
       "      <td>1</td>\n",
       "      <td>0</td>\n",
       "      <td>0</td>\n",
       "      <td>1</td>\n",
       "      <td>0</td>\n",
       "      <td>0</td>\n",
       "      <td>0</td>\n",
       "      <td>1</td>\n",
       "    </tr>\n",
       "    <tr>\n",
       "      <th>2228</th>\n",
       "      <td>8720</td>\n",
       "      <td>1978</td>\n",
       "      <td>2n Cycle</td>\n",
       "      <td>Together</td>\n",
       "      <td>NaN</td>\n",
       "      <td>0</td>\n",
       "      <td>0</td>\n",
       "      <td>12/8/2012</td>\n",
       "      <td>53</td>\n",
       "      <td>32</td>\n",
       "      <td>...</td>\n",
       "      <td>0</td>\n",
       "      <td>1</td>\n",
       "      <td>0</td>\n",
       "      <td>0</td>\n",
       "      <td>1</td>\n",
       "      <td>0</td>\n",
       "      <td>0</td>\n",
       "      <td>0</td>\n",
       "      <td>0</td>\n",
       "      <td>0</td>\n",
       "    </tr>\n",
       "  </tbody>\n",
       "</table>\n",
       "<p>24 rows × 27 columns</p>\n",
       "</div>"
      ],
      "text/plain": [
       "         ID  Year_Birth   Education Marital_Status  Income  Kidhome  Teenhome   \n",
       "10     1994        1983  Graduation        Married     NaN        1         0  \\\n",
       "27     5255        1986  Graduation         Single     NaN        1         0   \n",
       "43     7281        1959         PhD         Single     NaN        0         0   \n",
       "48     7244        1951  Graduation         Single     NaN        2         1   \n",
       "58     8557        1982  Graduation         Single     NaN        1         0   \n",
       "71    10629        1973    2n Cycle        Married     NaN        1         0   \n",
       "90     8996        1957         PhD        Married     NaN        2         1   \n",
       "91     9235        1957  Graduation         Single     NaN        1         1   \n",
       "92     5798        1973      Master       Together     NaN        0         0   \n",
       "128    8268        1961         PhD        Married     NaN        0         1   \n",
       "133    1295        1963  Graduation        Married     NaN        0         1   \n",
       "312    2437        1989  Graduation        Married     NaN        0         0   \n",
       "319    2863        1970  Graduation         Single     NaN        1         2   \n",
       "1379  10475        1970      Master       Together     NaN        0         1   \n",
       "1382   2902        1958  Graduation       Together     NaN        1         1   \n",
       "1383   4345        1964    2n Cycle         Single     NaN        1         1   \n",
       "1386   3769        1972         PhD       Together     NaN        1         0   \n",
       "2059   7187        1969      Master       Together     NaN        1         1   \n",
       "2061   1612        1981         PhD         Single     NaN        1         0   \n",
       "2078   5079        1971  Graduation        Married     NaN        1         1   \n",
       "2079  10339        1954      Master       Together     NaN        0         1   \n",
       "2081   3117        1955  Graduation         Single     NaN        0         1   \n",
       "2084   5250        1943      Master          Widow     NaN        0         0   \n",
       "2228   8720        1978    2n Cycle       Together     NaN        0         0   \n",
       "\n",
       "     Dt_Customer  Recency  MntWines  ...  NumCatalogPurchases   \n",
       "10    15-11-2013       11         5  ...                    0  \\\n",
       "27    20-02-2013       19         5  ...                    0   \n",
       "43     5/11/2013       80        81  ...                    3   \n",
       "48      1/1/2014       96        48  ...                    1   \n",
       "58    17-06-2013       57        11  ...                    0   \n",
       "71    14-09-2012       25        25  ...                    0   \n",
       "90    19-11-2012        4       230  ...                    2   \n",
       "91    27-05-2014       45         7  ...                    0   \n",
       "92    23-11-2013       87       445  ...                    4   \n",
       "128    11/7/2013       23       352  ...                    1   \n",
       "133    11/8/2013       96       231  ...                    5   \n",
       "312     3/6/2013       69       861  ...                    5   \n",
       "319   23-08-2013       67       738  ...                    3   \n",
       "1379    1/4/2013       39       187  ...                    2   \n",
       "1382    3/9/2012       87        19  ...                    0   \n",
       "1383   12/1/2014       49         5  ...                    0   \n",
       "1386    2/3/2014       17        25  ...                    0   \n",
       "2059  18-05-2013       52       375  ...                   10   \n",
       "2061  31-05-2013       82        23  ...                    0   \n",
       "2078    3/3/2013       82        71  ...                    1   \n",
       "2079  23-06-2013       83       161  ...                    1   \n",
       "2081  18-10-2013       95       264  ...                    1   \n",
       "2084  30-10-2013       75       532  ...                    5   \n",
       "2228   12/8/2012       53        32  ...                    0   \n",
       "\n",
       "      NumStorePurchases  NumWebVisitsMonth  AcceptedCmp3  AcceptedCmp4   \n",
       "10                    2                  7             0             0  \\\n",
       "27                    0                  1             0             0   \n",
       "43                    4                  2             0             0   \n",
       "48                    4                  6             0             0   \n",
       "58                    3                  6             0             0   \n",
       "71                    3                  8             0             0   \n",
       "90                    8                  9             0             0   \n",
       "91                    2                  7             0             0   \n",
       "92                    8                  1             0             0   \n",
       "128                   7                  6             0             0   \n",
       "133                   7                  4             0             0   \n",
       "312                  12                  3             0             1   \n",
       "319                  10                  7             0             1   \n",
       "1379                  6                  5             0             0   \n",
       "1382                  3                  5             0             0   \n",
       "1383                  2                  7             0             0   \n",
       "1386                  3                  7             0             0   \n",
       "2059                  4                  3             0             0   \n",
       "2061                  3                  6             0             0   \n",
       "2078                  3                  8             0             0   \n",
       "2079                  4                  6             0             0   \n",
       "2081                  5                  7             0             0   \n",
       "2084                 11                  1             0             0   \n",
       "2228                  1                  0             0             1   \n",
       "\n",
       "      AcceptedCmp5  AcceptedCmp1  AcceptedCmp2  Complain  Response  \n",
       "10               0             0             0         0         0  \n",
       "27               0             0             0         0         0  \n",
       "43               0             0             0         0         0  \n",
       "48               0             0             0         0         0  \n",
       "58               0             0             0         0         0  \n",
       "71               0             0             0         0         0  \n",
       "90               0             0             0         0         0  \n",
       "91               0             0             0         0         0  \n",
       "92               0             0             0         0         0  \n",
       "128              0             0             0         0         0  \n",
       "133              0             0             0         0         0  \n",
       "312              0             1             0         0         0  \n",
       "319              0             1             0         0         0  \n",
       "1379             0             0             0         0         0  \n",
       "1382             0             0             0         0         0  \n",
       "1383             0             0             0         0         0  \n",
       "1386             0             0             0         0         0  \n",
       "2059             0             0             0         0         0  \n",
       "2061             0             0             0         0         0  \n",
       "2078             0             0             0         0         0  \n",
       "2079             0             0             0         0         0  \n",
       "2081             0             0             0         0         0  \n",
       "2084             1             0             0         0         1  \n",
       "2228             0             0             0         0         0  \n",
       "\n",
       "[24 rows x 27 columns]"
      ]
     },
     "execution_count": 1013,
     "metadata": {},
     "output_type": "execute_result"
    }
   ],
   "source": [
    "# displaying the missing value rows\n",
    "df[df[\"Income\"].isna()]"
   ]
  },
  {
   "cell_type": "code",
   "execution_count": 1014,
   "id": "aa4cfcb5",
   "metadata": {},
   "outputs": [],
   "source": [
    "# replacing the missing values with mean values\n",
    "df[\"Income\"]=df[\"Income\"].fillna(df[\"Income\"].mean())"
   ]
  },
  {
   "cell_type": "markdown",
   "id": "25dd9560",
   "metadata": {},
   "source": [
    "### 4. Check if there are any duplicate records in the dataset? If any drop them."
   ]
  },
  {
   "cell_type": "code",
   "execution_count": 1015,
   "id": "7fb8fa2d",
   "metadata": {},
   "outputs": [
    {
     "data": {
      "text/html": [
       "<div>\n",
       "<style scoped>\n",
       "    .dataframe tbody tr th:only-of-type {\n",
       "        vertical-align: middle;\n",
       "    }\n",
       "\n",
       "    .dataframe tbody tr th {\n",
       "        vertical-align: top;\n",
       "    }\n",
       "\n",
       "    .dataframe thead th {\n",
       "        text-align: right;\n",
       "    }\n",
       "</style>\n",
       "<table border=\"1\" class=\"dataframe\">\n",
       "  <thead>\n",
       "    <tr style=\"text-align: right;\">\n",
       "      <th></th>\n",
       "      <th>ID</th>\n",
       "      <th>Year_Birth</th>\n",
       "      <th>Education</th>\n",
       "      <th>Marital_Status</th>\n",
       "      <th>Income</th>\n",
       "      <th>Kidhome</th>\n",
       "      <th>Teenhome</th>\n",
       "      <th>Dt_Customer</th>\n",
       "      <th>Recency</th>\n",
       "      <th>MntWines</th>\n",
       "      <th>...</th>\n",
       "      <th>NumCatalogPurchases</th>\n",
       "      <th>NumStorePurchases</th>\n",
       "      <th>NumWebVisitsMonth</th>\n",
       "      <th>AcceptedCmp3</th>\n",
       "      <th>AcceptedCmp4</th>\n",
       "      <th>AcceptedCmp5</th>\n",
       "      <th>AcceptedCmp1</th>\n",
       "      <th>AcceptedCmp2</th>\n",
       "      <th>Complain</th>\n",
       "      <th>Response</th>\n",
       "    </tr>\n",
       "  </thead>\n",
       "  <tbody>\n",
       "  </tbody>\n",
       "</table>\n",
       "<p>0 rows × 27 columns</p>\n",
       "</div>"
      ],
      "text/plain": [
       "Empty DataFrame\n",
       "Columns: [ID, Year_Birth, Education, Marital_Status, Income, Kidhome, Teenhome, Dt_Customer, Recency, MntWines, MntFruits, MntMeatProducts, MntFishProducts, MntSweetProducts, MntGoldProds, NumDealsPurchases, NumWebPurchases, NumCatalogPurchases, NumStorePurchases, NumWebVisitsMonth, AcceptedCmp3, AcceptedCmp4, AcceptedCmp5, AcceptedCmp1, AcceptedCmp2, Complain, Response]\n",
       "Index: []\n",
       "\n",
       "[0 rows x 27 columns]"
      ]
     },
     "execution_count": 1015,
     "metadata": {},
     "output_type": "execute_result"
    }
   ],
   "source": [
    "df[df.duplicated()]"
   ]
  },
  {
   "cell_type": "markdown",
   "id": "03b11515",
   "metadata": {},
   "source": [
    "no duplicates in the data"
   ]
  },
  {
   "cell_type": "markdown",
   "id": "54e89199",
   "metadata": {},
   "source": [
    "### 5. Drop the columns which you think redundant for the analysis "
   ]
  },
  {
   "cell_type": "code",
   "execution_count": 1016,
   "id": "08fc379d",
   "metadata": {},
   "outputs": [],
   "source": [
    "df.drop([\"ID\",\"Dt_Customer\"],axis=1,inplace=True)"
   ]
  },
  {
   "cell_type": "markdown",
   "id": "ab37c613",
   "metadata": {},
   "source": [
    "### 6. Check the unique categories in the column 'Marital_Status'\n",
    "- i) Group categories 'Married', 'Together' as 'relationship'\n",
    "- ii) Group categories 'Divorced', 'Widow', 'Alone', 'YOLO', and 'Absurd' as 'Single'."
   ]
  },
  {
   "cell_type": "code",
   "execution_count": 1017,
   "id": "0842d562",
   "metadata": {},
   "outputs": [
    {
     "data": {
      "text/plain": [
       "array(['Single', 'Together', 'Married', 'Divorced', 'Widow', 'Alone',\n",
       "       'Absurd', 'YOLO'], dtype=object)"
      ]
     },
     "execution_count": 1017,
     "metadata": {},
     "output_type": "execute_result"
    }
   ],
   "source": [
    "df[\"Marital_Status\"].unique()"
   ]
  },
  {
   "cell_type": "code",
   "execution_count": 1018,
   "id": "4b4e01da",
   "metadata": {},
   "outputs": [],
   "source": [
    "# 1)\n",
    "df[\"Marital_Status\"]=df[\"Marital_Status\"].str.replace(\"Together\",\"relationship\")\n",
    "df[\"Marital_Status\"]=df[\"Marital_Status\"].str.replace(\"Married\",\"relationship\")\n"
   ]
  },
  {
   "cell_type": "code",
   "execution_count": 1019,
   "id": "ef4270ee",
   "metadata": {},
   "outputs": [],
   "source": [
    "#2)\n",
    "df[\"Marital_Status\"]=df[\"Marital_Status\"].str.replace(\"Divorced\",\"Single\")\n",
    "df[\"Marital_Status\"]=df[\"Marital_Status\"].str.replace(\"Widow\",\"Single\")\n",
    "df[\"Marital_Status\"]=df[\"Marital_Status\"].str.replace(\"Alone\",\"Single\")\n",
    "df[\"Marital_Status\"]=df[\"Marital_Status\"].str.replace(\"YOLO\",\"Single\")\n",
    "df[\"Marital_Status\"]=df[\"Marital_Status\"].str.replace(\"Absurd\",\"Single\")\n"
   ]
  },
  {
   "cell_type": "code",
   "execution_count": 1020,
   "id": "bea26728",
   "metadata": {},
   "outputs": [
    {
     "data": {
      "text/plain": [
       "array(['Single', 'relationship'], dtype=object)"
      ]
     },
     "execution_count": 1020,
     "metadata": {},
     "output_type": "execute_result"
    }
   ],
   "source": [
    "df[\"Marital_Status\"].unique()"
   ]
  },
  {
   "cell_type": "markdown",
   "id": "2d7d483b",
   "metadata": {},
   "source": [
    "### 7. Group the columns 'MntWines', 'MntFruits', 'MntMeatProducts', 'MntFishProducts', 'MntSweetProducts', and 'MntGoldProds' as 'Total_Expenses'"
   ]
  },
  {
   "cell_type": "code",
   "execution_count": 1021,
   "id": "fa854a8a",
   "metadata": {},
   "outputs": [],
   "source": [
    "df[\"Total_Expenses\"]=df[\"MntWines\"]+df[\"MntFruits\"]+df[\"MntMeatProducts\"]+df[\"MntFishProducts\"]+df[\"MntSweetProducts\"]+df[\"MntGoldProds\"]"
   ]
  },
  {
   "cell_type": "code",
   "execution_count": 1022,
   "id": "1b08506e",
   "metadata": {},
   "outputs": [
    {
     "data": {
      "text/plain": [
       "0       1617\n",
       "1         27\n",
       "2        776\n",
       "3         53\n",
       "4        422\n",
       "        ... \n",
       "2235    1341\n",
       "2236     444\n",
       "2237    1241\n",
       "2238     843\n",
       "2239     172\n",
       "Name: Total_Expenses, Length: 2240, dtype: int64"
      ]
     },
     "execution_count": 1022,
     "metadata": {},
     "output_type": "execute_result"
    }
   ],
   "source": [
    "df[\"Total_Expenses\"]"
   ]
  },
  {
   "cell_type": "markdown",
   "id": "65134b99",
   "metadata": {},
   "source": [
    "### 8. Group the columns 'NumWebPurchases', 'NumCatalogPurchases', 'NumStorePurchases', and 'NumDealsPurchases' as 'Num_Total_Purchases'"
   ]
  },
  {
   "cell_type": "code",
   "execution_count": 1023,
   "id": "3d2bde20",
   "metadata": {},
   "outputs": [],
   "source": [
    "df[\"Num_Total_Purchases\"]=df[\"NumWebPurchases\"]+df[\"NumCatalogPurchases\"]+df[\"NumStorePurchases\"]+df[\"NumDealsPurchases\"]"
   ]
  },
  {
   "cell_type": "code",
   "execution_count": 1024,
   "id": "750ae9f2",
   "metadata": {},
   "outputs": [
    {
     "data": {
      "text/plain": [
       "0       25\n",
       "1        6\n",
       "2       21\n",
       "3        8\n",
       "4       19\n",
       "        ..\n",
       "2235    18\n",
       "2236    22\n",
       "2237    19\n",
       "2238    23\n",
       "2239    11\n",
       "Name: Num_Total_Purchases, Length: 2240, dtype: int64"
      ]
     },
     "execution_count": 1024,
     "metadata": {},
     "output_type": "execute_result"
    }
   ],
   "source": [
    "df[\"Num_Total_Purchases\"]"
   ]
  },
  {
   "cell_type": "markdown",
   "id": "71b7b935",
   "metadata": {},
   "source": [
    "### 9. Group the columns 'Kidhome' and 'Teenhome' as 'Kids' "
   ]
  },
  {
   "cell_type": "code",
   "execution_count": 1025,
   "id": "4c34b23d",
   "metadata": {},
   "outputs": [],
   "source": [
    "df[\"Kids\"]=df[\"Kidhome\"]+df[\"Teenhome\"]"
   ]
  },
  {
   "cell_type": "code",
   "execution_count": 1026,
   "id": "dc76d168",
   "metadata": {},
   "outputs": [
    {
     "data": {
      "text/plain": [
       "0       0\n",
       "1       2\n",
       "2       0\n",
       "3       1\n",
       "4       1\n",
       "       ..\n",
       "2235    1\n",
       "2236    3\n",
       "2237    0\n",
       "2238    1\n",
       "2239    2\n",
       "Name: Kids, Length: 2240, dtype: int64"
      ]
     },
     "execution_count": 1026,
     "metadata": {},
     "output_type": "execute_result"
    }
   ],
   "source": [
    "df[\"Kids\"]"
   ]
  },
  {
   "cell_type": "markdown",
   "id": "6ac20b1c",
   "metadata": {},
   "source": [
    "### 10. Group columns 'AcceptedCmp1 , 2 , 3 , 4, 5' and 'Response' as 'TotalAcceptedCmp'"
   ]
  },
  {
   "cell_type": "code",
   "execution_count": 1027,
   "id": "7ed6975b",
   "metadata": {},
   "outputs": [],
   "source": [
    "df[\"TotalAcceptedCmp\"]=df[\"AcceptedCmp1\"]+df[\"AcceptedCmp2\"]+df[\"AcceptedCmp3\"]+df[\"AcceptedCmp4\"]+df[\"AcceptedCmp5\"]+df[\"Response\"]"
   ]
  },
  {
   "cell_type": "code",
   "execution_count": 1028,
   "id": "47e5529c",
   "metadata": {},
   "outputs": [
    {
     "data": {
      "text/plain": [
       "0       1\n",
       "1       0\n",
       "2       0\n",
       "3       0\n",
       "4       0\n",
       "       ..\n",
       "2235    0\n",
       "2236    1\n",
       "2237    1\n",
       "2238    0\n",
       "2239    1\n",
       "Name: TotalAcceptedCmp, Length: 2240, dtype: int64"
      ]
     },
     "execution_count": 1028,
     "metadata": {},
     "output_type": "execute_result"
    }
   ],
   "source": [
    "df[\"TotalAcceptedCmp\"]"
   ]
  },
  {
   "cell_type": "markdown",
   "id": "c9d00120",
   "metadata": {},
   "source": [
    "### 11. Drop those columns which we have used above for obtaining new features"
   ]
  },
  {
   "cell_type": "code",
   "execution_count": 1029,
   "id": "72abbc97",
   "metadata": {},
   "outputs": [],
   "source": [
    "df.drop(['Kidhome','Teenhome','MntWines', 'MntFruits', 'MntMeatProducts',\n",
    "       'MntFishProducts', 'MntSweetProducts', 'MntGoldProds',\n",
    "       'NumDealsPurchases', 'NumWebPurchases', 'NumCatalogPurchases',\n",
    "       'NumStorePurchases','AcceptedCmp3',\n",
    "       'AcceptedCmp4', 'AcceptedCmp5', 'AcceptedCmp1', 'AcceptedCmp2','Response'],axis=1,inplace=True)"
   ]
  },
  {
   "cell_type": "code",
   "execution_count": 1030,
   "id": "8f4991c5",
   "metadata": {},
   "outputs": [
    {
     "data": {
      "text/plain": [
       "Index(['Year_Birth', 'Education', 'Marital_Status', 'Income', 'Recency',\n",
       "       'NumWebVisitsMonth', 'Complain', 'Total_Expenses',\n",
       "       'Num_Total_Purchases', 'Kids', 'TotalAcceptedCmp'],\n",
       "      dtype='object')"
      ]
     },
     "execution_count": 1030,
     "metadata": {},
     "output_type": "execute_result"
    }
   ],
   "source": [
    "df.columns"
   ]
  },
  {
   "cell_type": "markdown",
   "id": "db482590",
   "metadata": {},
   "source": [
    "### 12. Extract 'age' using the column 'Year_Birth' and then drop the column 'Year_birth'"
   ]
  },
  {
   "cell_type": "code",
   "execution_count": 1031,
   "id": "0a88d402",
   "metadata": {},
   "outputs": [
    {
     "data": {
      "text/plain": [
       "0       1957\n",
       "1       1954\n",
       "2       1965\n",
       "3       1984\n",
       "4       1981\n",
       "        ... \n",
       "2235    1967\n",
       "2236    1946\n",
       "2237    1981\n",
       "2238    1956\n",
       "2239    1954\n",
       "Name: Year_Birth, Length: 2240, dtype: int64"
      ]
     },
     "execution_count": 1031,
     "metadata": {},
     "output_type": "execute_result"
    }
   ],
   "source": [
    "df[\"Year_Birth\"]"
   ]
  },
  {
   "cell_type": "code",
   "execution_count": 1032,
   "id": "3dd3fe48",
   "metadata": {},
   "outputs": [],
   "source": [
    "df[\"age\"]=2023-df[\"Year_Birth\"]"
   ]
  },
  {
   "cell_type": "code",
   "execution_count": 1033,
   "id": "8a40c1a2",
   "metadata": {},
   "outputs": [],
   "source": [
    "df.drop([\"Year_Birth\"] ,axis=1,inplace=True)"
   ]
  },
  {
   "cell_type": "code",
   "execution_count": 1034,
   "id": "0a180c22",
   "metadata": {},
   "outputs": [
    {
     "data": {
      "text/plain": [
       "Index(['Education', 'Marital_Status', 'Income', 'Recency', 'NumWebVisitsMonth',\n",
       "       'Complain', 'Total_Expenses', 'Num_Total_Purchases', 'Kids',\n",
       "       'TotalAcceptedCmp', 'age'],\n",
       "      dtype='object')"
      ]
     },
     "execution_count": 1034,
     "metadata": {},
     "output_type": "execute_result"
    }
   ],
   "source": [
    "df.columns"
   ]
  },
  {
   "cell_type": "code",
   "execution_count": 1035,
   "id": "17e5dd2f",
   "metadata": {},
   "outputs": [
    {
     "data": {
      "text/html": [
       "<div>\n",
       "<style scoped>\n",
       "    .dataframe tbody tr th:only-of-type {\n",
       "        vertical-align: middle;\n",
       "    }\n",
       "\n",
       "    .dataframe tbody tr th {\n",
       "        vertical-align: top;\n",
       "    }\n",
       "\n",
       "    .dataframe thead th {\n",
       "        text-align: right;\n",
       "    }\n",
       "</style>\n",
       "<table border=\"1\" class=\"dataframe\">\n",
       "  <thead>\n",
       "    <tr style=\"text-align: right;\">\n",
       "      <th></th>\n",
       "      <th>Education</th>\n",
       "      <th>Marital_Status</th>\n",
       "      <th>Income</th>\n",
       "      <th>Recency</th>\n",
       "      <th>NumWebVisitsMonth</th>\n",
       "      <th>Complain</th>\n",
       "      <th>Total_Expenses</th>\n",
       "      <th>Num_Total_Purchases</th>\n",
       "      <th>Kids</th>\n",
       "      <th>TotalAcceptedCmp</th>\n",
       "      <th>age</th>\n",
       "    </tr>\n",
       "  </thead>\n",
       "  <tbody>\n",
       "    <tr>\n",
       "      <th>0</th>\n",
       "      <td>Graduation</td>\n",
       "      <td>Single</td>\n",
       "      <td>58138.0</td>\n",
       "      <td>58</td>\n",
       "      <td>7</td>\n",
       "      <td>0</td>\n",
       "      <td>1617</td>\n",
       "      <td>25</td>\n",
       "      <td>0</td>\n",
       "      <td>1</td>\n",
       "      <td>66</td>\n",
       "    </tr>\n",
       "    <tr>\n",
       "      <th>1</th>\n",
       "      <td>Graduation</td>\n",
       "      <td>Single</td>\n",
       "      <td>46344.0</td>\n",
       "      <td>38</td>\n",
       "      <td>5</td>\n",
       "      <td>0</td>\n",
       "      <td>27</td>\n",
       "      <td>6</td>\n",
       "      <td>2</td>\n",
       "      <td>0</td>\n",
       "      <td>69</td>\n",
       "    </tr>\n",
       "    <tr>\n",
       "      <th>2</th>\n",
       "      <td>Graduation</td>\n",
       "      <td>relationship</td>\n",
       "      <td>71613.0</td>\n",
       "      <td>26</td>\n",
       "      <td>4</td>\n",
       "      <td>0</td>\n",
       "      <td>776</td>\n",
       "      <td>21</td>\n",
       "      <td>0</td>\n",
       "      <td>0</td>\n",
       "      <td>58</td>\n",
       "    </tr>\n",
       "    <tr>\n",
       "      <th>3</th>\n",
       "      <td>Graduation</td>\n",
       "      <td>relationship</td>\n",
       "      <td>26646.0</td>\n",
       "      <td>26</td>\n",
       "      <td>6</td>\n",
       "      <td>0</td>\n",
       "      <td>53</td>\n",
       "      <td>8</td>\n",
       "      <td>1</td>\n",
       "      <td>0</td>\n",
       "      <td>39</td>\n",
       "    </tr>\n",
       "    <tr>\n",
       "      <th>4</th>\n",
       "      <td>PhD</td>\n",
       "      <td>relationship</td>\n",
       "      <td>58293.0</td>\n",
       "      <td>94</td>\n",
       "      <td>5</td>\n",
       "      <td>0</td>\n",
       "      <td>422</td>\n",
       "      <td>19</td>\n",
       "      <td>1</td>\n",
       "      <td>0</td>\n",
       "      <td>42</td>\n",
       "    </tr>\n",
       "    <tr>\n",
       "      <th>...</th>\n",
       "      <td>...</td>\n",
       "      <td>...</td>\n",
       "      <td>...</td>\n",
       "      <td>...</td>\n",
       "      <td>...</td>\n",
       "      <td>...</td>\n",
       "      <td>...</td>\n",
       "      <td>...</td>\n",
       "      <td>...</td>\n",
       "      <td>...</td>\n",
       "      <td>...</td>\n",
       "    </tr>\n",
       "    <tr>\n",
       "      <th>2235</th>\n",
       "      <td>Graduation</td>\n",
       "      <td>relationship</td>\n",
       "      <td>61223.0</td>\n",
       "      <td>46</td>\n",
       "      <td>5</td>\n",
       "      <td>0</td>\n",
       "      <td>1341</td>\n",
       "      <td>18</td>\n",
       "      <td>1</td>\n",
       "      <td>0</td>\n",
       "      <td>56</td>\n",
       "    </tr>\n",
       "    <tr>\n",
       "      <th>2236</th>\n",
       "      <td>PhD</td>\n",
       "      <td>relationship</td>\n",
       "      <td>64014.0</td>\n",
       "      <td>56</td>\n",
       "      <td>7</td>\n",
       "      <td>0</td>\n",
       "      <td>444</td>\n",
       "      <td>22</td>\n",
       "      <td>3</td>\n",
       "      <td>1</td>\n",
       "      <td>77</td>\n",
       "    </tr>\n",
       "    <tr>\n",
       "      <th>2237</th>\n",
       "      <td>Graduation</td>\n",
       "      <td>Single</td>\n",
       "      <td>56981.0</td>\n",
       "      <td>91</td>\n",
       "      <td>6</td>\n",
       "      <td>0</td>\n",
       "      <td>1241</td>\n",
       "      <td>19</td>\n",
       "      <td>0</td>\n",
       "      <td>1</td>\n",
       "      <td>42</td>\n",
       "    </tr>\n",
       "    <tr>\n",
       "      <th>2238</th>\n",
       "      <td>Master</td>\n",
       "      <td>relationship</td>\n",
       "      <td>69245.0</td>\n",
       "      <td>8</td>\n",
       "      <td>3</td>\n",
       "      <td>0</td>\n",
       "      <td>843</td>\n",
       "      <td>23</td>\n",
       "      <td>1</td>\n",
       "      <td>0</td>\n",
       "      <td>67</td>\n",
       "    </tr>\n",
       "    <tr>\n",
       "      <th>2239</th>\n",
       "      <td>PhD</td>\n",
       "      <td>relationship</td>\n",
       "      <td>52869.0</td>\n",
       "      <td>40</td>\n",
       "      <td>7</td>\n",
       "      <td>0</td>\n",
       "      <td>172</td>\n",
       "      <td>11</td>\n",
       "      <td>2</td>\n",
       "      <td>1</td>\n",
       "      <td>69</td>\n",
       "    </tr>\n",
       "  </tbody>\n",
       "</table>\n",
       "<p>2240 rows × 11 columns</p>\n",
       "</div>"
      ],
      "text/plain": [
       "       Education Marital_Status   Income  Recency  NumWebVisitsMonth   \n",
       "0     Graduation         Single  58138.0       58                  7  \\\n",
       "1     Graduation         Single  46344.0       38                  5   \n",
       "2     Graduation   relationship  71613.0       26                  4   \n",
       "3     Graduation   relationship  26646.0       26                  6   \n",
       "4            PhD   relationship  58293.0       94                  5   \n",
       "...          ...            ...      ...      ...                ...   \n",
       "2235  Graduation   relationship  61223.0       46                  5   \n",
       "2236         PhD   relationship  64014.0       56                  7   \n",
       "2237  Graduation         Single  56981.0       91                  6   \n",
       "2238      Master   relationship  69245.0        8                  3   \n",
       "2239         PhD   relationship  52869.0       40                  7   \n",
       "\n",
       "      Complain  Total_Expenses  Num_Total_Purchases  Kids  TotalAcceptedCmp   \n",
       "0            0            1617                   25     0                 1  \\\n",
       "1            0              27                    6     2                 0   \n",
       "2            0             776                   21     0                 0   \n",
       "3            0              53                    8     1                 0   \n",
       "4            0             422                   19     1                 0   \n",
       "...        ...             ...                  ...   ...               ...   \n",
       "2235         0            1341                   18     1                 0   \n",
       "2236         0             444                   22     3                 1   \n",
       "2237         0            1241                   19     0                 1   \n",
       "2238         0             843                   23     1                 0   \n",
       "2239         0             172                   11     2                 1   \n",
       "\n",
       "      age  \n",
       "0      66  \n",
       "1      69  \n",
       "2      58  \n",
       "3      39  \n",
       "4      42  \n",
       "...   ...  \n",
       "2235   56  \n",
       "2236   77  \n",
       "2237   42  \n",
       "2238   67  \n",
       "2239   69  \n",
       "\n",
       "[2240 rows x 11 columns]"
      ]
     },
     "execution_count": 1035,
     "metadata": {},
     "output_type": "execute_result"
    }
   ],
   "source": [
    "#creating a clean df\n",
    "dfc=df.copy()\n",
    "dfc"
   ]
  },
  {
   "cell_type": "markdown",
   "id": "0017b265",
   "metadata": {},
   "source": [
    "### 13. Encode the categorical variables in the dataset"
   ]
  },
  {
   "cell_type": "code",
   "execution_count": 1036,
   "id": "80783286",
   "metadata": {},
   "outputs": [],
   "source": [
    "## Label encoding\n",
    "cat=['Education', 'Marital_Status']\n",
    "le= LabelEncoder()\n",
    "for i in cat:\n",
    "    df[i]=le.fit_transform(df[i])"
   ]
  },
  {
   "cell_type": "code",
   "execution_count": 1037,
   "id": "0e0fd60f",
   "metadata": {},
   "outputs": [
    {
     "data": {
      "text/html": [
       "<div>\n",
       "<style scoped>\n",
       "    .dataframe tbody tr th:only-of-type {\n",
       "        vertical-align: middle;\n",
       "    }\n",
       "\n",
       "    .dataframe tbody tr th {\n",
       "        vertical-align: top;\n",
       "    }\n",
       "\n",
       "    .dataframe thead th {\n",
       "        text-align: right;\n",
       "    }\n",
       "</style>\n",
       "<table border=\"1\" class=\"dataframe\">\n",
       "  <thead>\n",
       "    <tr style=\"text-align: right;\">\n",
       "      <th></th>\n",
       "      <th>Education</th>\n",
       "      <th>Marital_Status</th>\n",
       "      <th>Income</th>\n",
       "      <th>Recency</th>\n",
       "      <th>NumWebVisitsMonth</th>\n",
       "      <th>Complain</th>\n",
       "      <th>Total_Expenses</th>\n",
       "      <th>Num_Total_Purchases</th>\n",
       "      <th>Kids</th>\n",
       "      <th>TotalAcceptedCmp</th>\n",
       "      <th>age</th>\n",
       "    </tr>\n",
       "  </thead>\n",
       "  <tbody>\n",
       "    <tr>\n",
       "      <th>0</th>\n",
       "      <td>2</td>\n",
       "      <td>0</td>\n",
       "      <td>58138.0</td>\n",
       "      <td>58</td>\n",
       "      <td>7</td>\n",
       "      <td>0</td>\n",
       "      <td>1617</td>\n",
       "      <td>25</td>\n",
       "      <td>0</td>\n",
       "      <td>1</td>\n",
       "      <td>66</td>\n",
       "    </tr>\n",
       "    <tr>\n",
       "      <th>1</th>\n",
       "      <td>2</td>\n",
       "      <td>0</td>\n",
       "      <td>46344.0</td>\n",
       "      <td>38</td>\n",
       "      <td>5</td>\n",
       "      <td>0</td>\n",
       "      <td>27</td>\n",
       "      <td>6</td>\n",
       "      <td>2</td>\n",
       "      <td>0</td>\n",
       "      <td>69</td>\n",
       "    </tr>\n",
       "    <tr>\n",
       "      <th>2</th>\n",
       "      <td>2</td>\n",
       "      <td>1</td>\n",
       "      <td>71613.0</td>\n",
       "      <td>26</td>\n",
       "      <td>4</td>\n",
       "      <td>0</td>\n",
       "      <td>776</td>\n",
       "      <td>21</td>\n",
       "      <td>0</td>\n",
       "      <td>0</td>\n",
       "      <td>58</td>\n",
       "    </tr>\n",
       "    <tr>\n",
       "      <th>3</th>\n",
       "      <td>2</td>\n",
       "      <td>1</td>\n",
       "      <td>26646.0</td>\n",
       "      <td>26</td>\n",
       "      <td>6</td>\n",
       "      <td>0</td>\n",
       "      <td>53</td>\n",
       "      <td>8</td>\n",
       "      <td>1</td>\n",
       "      <td>0</td>\n",
       "      <td>39</td>\n",
       "    </tr>\n",
       "    <tr>\n",
       "      <th>4</th>\n",
       "      <td>4</td>\n",
       "      <td>1</td>\n",
       "      <td>58293.0</td>\n",
       "      <td>94</td>\n",
       "      <td>5</td>\n",
       "      <td>0</td>\n",
       "      <td>422</td>\n",
       "      <td>19</td>\n",
       "      <td>1</td>\n",
       "      <td>0</td>\n",
       "      <td>42</td>\n",
       "    </tr>\n",
       "  </tbody>\n",
       "</table>\n",
       "</div>"
      ],
      "text/plain": [
       "   Education  Marital_Status   Income  Recency  NumWebVisitsMonth  Complain   \n",
       "0          2               0  58138.0       58                  7         0  \\\n",
       "1          2               0  46344.0       38                  5         0   \n",
       "2          2               1  71613.0       26                  4         0   \n",
       "3          2               1  26646.0       26                  6         0   \n",
       "4          4               1  58293.0       94                  5         0   \n",
       "\n",
       "   Total_Expenses  Num_Total_Purchases  Kids  TotalAcceptedCmp  age  \n",
       "0            1617                   25     0                 1   66  \n",
       "1              27                    6     2                 0   69  \n",
       "2             776                   21     0                 0   58  \n",
       "3              53                    8     1                 0   39  \n",
       "4             422                   19     1                 0   42  "
      ]
     },
     "execution_count": 1037,
     "metadata": {},
     "output_type": "execute_result"
    }
   ],
   "source": [
    "df.head()"
   ]
  },
  {
   "cell_type": "markdown",
   "id": "ebd66a17",
   "metadata": {},
   "source": [
    "### 14. Standardize the columns, so that values are in a particular range"
   ]
  },
  {
   "cell_type": "code",
   "execution_count": 1038,
   "id": "8c79bdc2",
   "metadata": {},
   "outputs": [],
   "source": [
    "ss = StandardScaler()\n",
    "df1=df.copy()\n",
    "scaled_features= ss.fit_transform(df1.values)\n",
    "scaled_features_df=pd.DataFrame(scaled_features,index=df1.index,columns=df1.columns)\n"
   ]
  },
  {
   "cell_type": "markdown",
   "id": "16de17bc",
   "metadata": {},
   "source": [
    "### 15. Apply PCA on the above dataset and determine the number of PCA components to be used so that 90-95% of the variance in data is explained by the same."
   ]
  },
  {
   "cell_type": "code",
   "execution_count": 1039,
   "id": "6bb5489b",
   "metadata": {},
   "outputs": [
    {
     "data": {
      "text/plain": [
       "array([[ 1.00044663, -0.01375403,  0.1200273 , -0.01173369, -0.04029882,\n",
       "        -0.05056252,  0.09209518,  0.09405439,  0.05321304,  0.06327892,\n",
       "         0.17146685],\n",
       "       [-0.01375403,  1.00044663,  0.00463847, -0.00450972,  0.00344176,\n",
       "        -0.00520466, -0.01775232,  0.00671037,  0.03917598, -0.06004206,\n",
       "        -0.0042384 ],\n",
       "       [ 0.1200273 ,  0.00463847,  1.00044663, -0.00394826, -0.55006966,\n",
       "        -0.02723528,  0.66500337,  0.5636214 , -0.29084155,  0.28717443,\n",
       "         0.16101378],\n",
       "       [-0.01173369, -0.00450972, -0.00394826,  1.00044663, -0.02145427,\n",
       "         0.01323699,  0.02044173,  0.00574294,  0.01806145, -0.08900203,\n",
       "         0.01987996],\n",
       "       [-0.04029882,  0.00344176, -0.55006966, -0.02145427,  1.00044663,\n",
       "         0.01977734, -0.50044131, -0.31242795,  0.41860616, -0.12836726,\n",
       "        -0.12119336],\n",
       "       [-0.05056252, -0.00520466, -0.02723528,  0.01323699,  0.01977734,\n",
       "         1.00044663, -0.03707503, -0.02059185,  0.03108014, -0.01761676,\n",
       "         0.030141  ],\n",
       "       [ 0.09209518, -0.01775232,  0.66500337,  0.02044173, -0.50044131,\n",
       "        -0.03707503,  1.00044663,  0.75423984, -0.49911047,  0.4564099 ,\n",
       "         0.11135611],\n",
       "       [ 0.09405439,  0.00671037,  0.5636214 ,  0.00574294, -0.31242795,\n",
       "        -0.02059185,  0.75423984,  1.00044663, -0.24589955,  0.25816052,\n",
       "         0.16837908],\n",
       "       [ 0.05321304,  0.03917598, -0.29084155,  0.01806145,  0.41860616,\n",
       "         0.03108014, -0.49911047, -0.24589955,  1.00044663, -0.25387372,\n",
       "         0.09023955],\n",
       "       [ 0.06327892, -0.06004206,  0.28717443, -0.08900203, -0.12836726,\n",
       "        -0.01761676,  0.4564099 ,  0.25816052, -0.25387372,  1.00044663,\n",
       "        -0.00830618],\n",
       "       [ 0.17146685, -0.0042384 ,  0.16101378,  0.01987996, -0.12119336,\n",
       "         0.030141  ,  0.11135611,  0.16837908,  0.09023955, -0.00830618,\n",
       "         1.00044663]])"
      ]
     },
     "execution_count": 1039,
     "metadata": {},
     "output_type": "execute_result"
    }
   ],
   "source": [
    "# calculate the covariance matrix\n",
    "cov_matrix=np.cov(scaled_features_df.T)\n",
    "cov_matrix"
   ]
  },
  {
   "cell_type": "code",
   "execution_count": 1040,
   "id": "34e6afde",
   "metadata": {},
   "outputs": [
    {
     "name": "stdout",
     "output_type": "stream",
     "text": [
      "eigen values =  [3.19039372 0.15898065 0.33403219 1.25762686 0.57476787 0.70088408\n",
      " 0.81488009 0.88268465 1.07560545 0.99819186 1.01686548]\n",
      "\n",
      "\n",
      "eigen vectors =  [[-8.10878879e-02  1.28355184e-02  2.36293947e-02  5.51249544e-01\n",
      "   9.44095922e-02  1.09410621e-01  6.91170717e-01 -2.13981881e-01\n",
      "   3.53512225e-01  1.33215293e-01  4.14647769e-02]\n",
      " [ 1.66012105e-02  5.44320001e-04  2.67214391e-03  7.24616823e-02\n",
      "   9.22507506e-03 -1.59630615e-01  9.75252262e-02 -2.48006969e-01\n",
      "  -2.93241983e-01 -5.20771188e-01  7.35314297e-01]\n",
      " [-4.53880338e-01  1.10208189e-01 -7.33626969e-01  1.11676478e-01\n",
      "  -4.01003018e-01  2.33850859e-01 -3.55906464e-02  8.23323221e-02\n",
      "  -7.12476789e-02 -3.27656138e-02  3.84949439e-02]\n",
      " [ 4.86396555e-03  3.74604574e-02 -1.76527197e-02  1.12971535e-01\n",
      "  -4.88116231e-02 -1.39195279e-01  2.76319114e-02 -4.78177475e-01\n",
      "  -6.57510164e-01  5.43205810e-01 -8.32561223e-02]\n",
      " [ 3.78658345e-01 -9.89489261e-02 -5.23256954e-01  3.88425153e-02\n",
      "   4.48112460e-01  8.25533630e-02 -2.94912266e-01 -4.57654180e-01\n",
      "   2.47273799e-01 -5.72617366e-02 -5.52876154e-02]\n",
      " [ 2.90760818e-02 -6.06341959e-03 -2.99897258e-03  2.18322944e-02\n",
      "   1.32512441e-02  6.69753940e-02  2.59964497e-01 -1.36535221e-01\n",
      "  -3.32942389e-01 -6.20854560e-01 -6.41433122e-01]\n",
      " [-5.13798774e-01 -8.08731367e-01  1.17264129e-01 -3.71658939e-02\n",
      "   1.69401403e-01  9.38893200e-02 -9.86519786e-02 -1.39576264e-01\n",
      "  -4.61806718e-04 -8.17615116e-03 -6.27437640e-03]\n",
      " [-4.29017441e-01  5.04358880e-01  3.04719064e-01  1.38520052e-01\n",
      "   3.58716989e-01  4.26004900e-01 -3.25141464e-01 -1.68760606e-01\n",
      "  -2.33770464e-02 -6.69212651e-02  1.20222745e-02]\n",
      " [ 3.24830013e-01 -1.92207778e-01  2.56272959e-01  4.21696656e-01\n",
      "  -5.64587849e-01  3.67863937e-01 -3.50529639e-01 -1.64371746e-01\n",
      "   6.02541793e-02 -8.00971488e-02 -4.38176281e-03]\n",
      " [-2.79858667e-01  1.76030180e-01  1.09515910e-01 -1.80985068e-01\n",
      "  -3.49326656e-01 -4.95096343e-01 -1.14208753e-01 -5.15379125e-01\n",
      "   4.14239939e-01 -9.46091473e-02 -1.39959893e-01]\n",
      " [-1.04928635e-01 -1.01690738e-02 -5.32295090e-02  6.57647990e-01\n",
      "   1.69328363e-01 -5.53575132e-01 -3.23763830e-01  2.97636330e-01\n",
      "  -6.22530283e-02 -7.90814700e-02 -1.22045361e-01]]\n"
     ]
    }
   ],
   "source": [
    "# eigen values and eigen vectors\n",
    "eig_vals,eig_vectors= np.linalg.eig(cov_matrix)\n",
    "print(\"eigen values = \",eig_vals)\n",
    "print(\"\\n\")\n",
    "print(\"eigen vectors = \",eig_vectors)\n"
   ]
  },
  {
   "cell_type": "code",
   "execution_count": 1041,
   "id": "15e89c45",
   "metadata": {},
   "outputs": [
    {
     "name": "stdout",
     "output_type": "stream",
     "text": [
      "explained variance =  [28.99063120103074, 11.427867418203109, 9.773866099738864, 9.240104772844964, 9.070420346680987, 8.020823626792339, 7.404693691240488, 6.368828985843819, 5.222829816381425, 3.0353006494361603, 1.4446333918071013]\n",
      "cummulative variance explained =  [ 28.9906312   40.41849862  50.19236472  59.43246949  68.50288984\n",
      "  76.52371347  83.92840716  90.29723614  95.52006596  98.55536661\n",
      " 100.        ]\n"
     ]
    }
   ],
   "source": [
    "total = sum(eig_vals) \n",
    "var_exp=[(i/total)*100 for i in sorted(eig_vals,reverse=True)]\n",
    "cum_var_exp=np.cumsum(var_exp)\n",
    "print(\"explained variance = \",var_exp)\n",
    "print(\"cummulative variance explained = \",cum_var_exp)"
   ]
  },
  {
   "cell_type": "code",
   "execution_count": 1042,
   "id": "9d1a99f0",
   "metadata": {},
   "outputs": [
    {
     "data": {
      "text/plain": [
       "<matplotlib.legend.Legend at 0x1e4c3641d50>"
      ]
     },
     "execution_count": 1042,
     "metadata": {},
     "output_type": "execute_result"
    },
    {
     "data": {
      "image/png": "[encoded data removed]",
      "text/plain": [
       "<Figure size 640x480 with 1 Axes>"
      ]
     },
     "metadata": {},
     "output_type": "display_data"
    }
   ],
   "source": [
    "#plot\n",
    "plt.bar(range(11),var_exp,align=\"center\",color=\"orange\",label=\"explained variance\")\n",
    "plt.step(range(11),cum_var_exp,where=\"mid\",color=\"red\",label=\"cummulative variance explained\")\n",
    "plt.xlabel(\"Principal components\")\n",
    "plt.ylabel(\"explained variance ratio\")\n",
    "plt.legend(loc=\"best\")"
   ]
  },
  {
   "cell_type": "markdown",
   "id": "b76263d8",
   "metadata": {},
   "source": [
    "from the above scree plot the first 9 principal components are explaining about 90-95% of the variation . \n",
    "so we can choose optimal number of principal components as 9"
   ]
  },
  {
   "cell_type": "markdown",
   "id": "29af0e52",
   "metadata": {},
   "source": [
    "### 16. Apply K-means clustering and segment the data (Use PCA transformed data for clustering) "
   ]
  },
  {
   "cell_type": "code",
   "execution_count": 1043,
   "id": "9113e436",
   "metadata": {},
   "outputs": [
    {
     "data": {
      "text/html": [
       "<div>\n",
       "<style scoped>\n",
       "    .dataframe tbody tr th:only-of-type {\n",
       "        vertical-align: middle;\n",
       "    }\n",
       "\n",
       "    .dataframe tbody tr th {\n",
       "        vertical-align: top;\n",
       "    }\n",
       "\n",
       "    .dataframe thead th {\n",
       "        text-align: right;\n",
       "    }\n",
       "</style>\n",
       "<table border=\"1\" class=\"dataframe\">\n",
       "  <thead>\n",
       "    <tr style=\"text-align: right;\">\n",
       "      <th></th>\n",
       "      <th>pc1</th>\n",
       "      <th>pc2</th>\n",
       "      <th>pc3</th>\n",
       "      <th>pc4</th>\n",
       "      <th>pc5</th>\n",
       "      <th>pc6</th>\n",
       "      <th>pc7</th>\n",
       "      <th>pc8</th>\n",
       "      <th>pc9</th>\n",
       "    </tr>\n",
       "  </thead>\n",
       "  <tbody>\n",
       "    <tr>\n",
       "      <th>0</th>\n",
       "      <td>1.956902</td>\n",
       "      <td>-0.081936</td>\n",
       "      <td>-0.344667</td>\n",
       "      <td>1.193687</td>\n",
       "      <td>-0.696970</td>\n",
       "      <td>-0.299137</td>\n",
       "      <td>-1.145041</td>\n",
       "      <td>-0.358094</td>\n",
       "      <td>-1.576873</td>\n",
       "    </tr>\n",
       "    <tr>\n",
       "      <th>1</th>\n",
       "      <td>-1.512598</td>\n",
       "      <td>1.000666</td>\n",
       "      <td>-0.367106</td>\n",
       "      <td>1.006953</td>\n",
       "      <td>-0.445000</td>\n",
       "      <td>1.371965</td>\n",
       "      <td>-0.724374</td>\n",
       "      <td>-0.346359</td>\n",
       "      <td>0.972746</td>\n",
       "    </tr>\n",
       "    <tr>\n",
       "      <th>2</th>\n",
       "      <td>1.314538</td>\n",
       "      <td>-0.299417</td>\n",
       "      <td>0.296366</td>\n",
       "      <td>-0.764913</td>\n",
       "      <td>0.732877</td>\n",
       "      <td>0.984394</td>\n",
       "      <td>0.025389</td>\n",
       "      <td>0.058563</td>\n",
       "      <td>-0.735851</td>\n",
       "    </tr>\n",
       "    <tr>\n",
       "      <th>3</th>\n",
       "      <td>-1.755094</td>\n",
       "      <td>-1.139847</td>\n",
       "      <td>-0.254499</td>\n",
       "      <td>-0.825065</td>\n",
       "      <td>0.579217</td>\n",
       "      <td>0.221975</td>\n",
       "      <td>0.562426</td>\n",
       "      <td>0.239541</td>\n",
       "      <td>0.005032</td>\n",
       "    </tr>\n",
       "    <tr>\n",
       "      <th>4</th>\n",
       "      <td>0.063584</td>\n",
       "      <td>0.571435</td>\n",
       "      <td>0.902243</td>\n",
       "      <td>-0.757574</td>\n",
       "      <td>-0.794825</td>\n",
       "      <td>-1.241683</td>\n",
       "      <td>1.325626</td>\n",
       "      <td>0.898316</td>\n",
       "      <td>-0.016878</td>\n",
       "    </tr>\n",
       "  </tbody>\n",
       "</table>\n",
       "</div>"
      ],
      "text/plain": [
       "        pc1       pc2       pc3       pc4       pc5       pc6       pc7   \n",
       "0  1.956902 -0.081936 -0.344667  1.193687 -0.696970 -0.299137 -1.145041  \\\n",
       "1 -1.512598  1.000666 -0.367106  1.006953 -0.445000  1.371965 -0.724374   \n",
       "2  1.314538 -0.299417  0.296366 -0.764913  0.732877  0.984394  0.025389   \n",
       "3 -1.755094 -1.139847 -0.254499 -0.825065  0.579217  0.221975  0.562426   \n",
       "4  0.063584  0.571435  0.902243 -0.757574 -0.794825 -1.241683  1.325626   \n",
       "\n",
       "        pc8       pc9  \n",
       "0 -0.358094 -1.576873  \n",
       "1 -0.346359  0.972746  \n",
       "2  0.058563 -0.735851  \n",
       "3  0.239541  0.005032  \n",
       "4  0.898316 -0.016878  "
      ]
     },
     "execution_count": 1043,
     "metadata": {},
     "output_type": "execute_result"
    }
   ],
   "source": [
    "pca= PCA(n_components=9)\n",
    "\n",
    "pca_df=pd.DataFrame(pca.fit_transform(scaled_features_df),columns=[\"pc1\",\"pc2\",\"pc3\",\"pc4\",\"pc5\",\"pc6\",\"pc7\",\"pc8\",\"pc9\"])\n",
    "pca_df.head()"
   ]
  },
  {
   "cell_type": "code",
   "execution_count": 1044,
   "id": "09ef6986",
   "metadata": {},
   "outputs": [
    {
     "data": {
      "text/plain": [
       "[18133.24669575591,\n",
       " 16680.632624119582,\n",
       " 14487.96247778084,\n",
       " 13352.274530318397,\n",
       " 12393.430722577748,\n",
       " 11725.544060456266,\n",
       " 11182.276342984116,\n",
       " 10733.371470841292,\n",
       " 10359.177905969062,\n",
       " 10009.283334150115,\n",
       " 9801.228484030704,\n",
       " 9522.551108576508,\n",
       " 9256.243457808538]"
      ]
     },
     "execution_count": 1044,
     "metadata": {},
     "output_type": "execute_result"
    }
   ],
   "source": [
    "errors=[]\n",
    "cluster_range=range(2,15)\n",
    "for i in cluster_range:\n",
    "    clusters= KMeans(i,random_state=100)\n",
    "    clusters.fit(pca_df)\n",
    "    errors.append(clusters.inertia_)\n",
    "\n",
    "errors"
   ]
  },
  {
   "cell_type": "code",
   "execution_count": 1045,
   "id": "db9776d3",
   "metadata": {},
   "outputs": [
    {
     "data": {
      "text/plain": [
       "[<matplotlib.lines.Line2D at 0x1e4c0449090>]"
      ]
     },
     "execution_count": 1045,
     "metadata": {},
     "output_type": "execute_result"
    },
    {
     "data": {
      "image/png": "[encoded data removed]",
      "text/plain": [
       "<Figure size 640x480 with 1 Axes>"
      ]
     },
     "metadata": {},
     "output_type": "display_data"
    }
   ],
   "source": [
    "cluster_df=pd.DataFrame({'num_clusters':cluster_range,'cluster_errors':errors})\n",
    "\n",
    "\n",
    "plt.plot(cluster_df[\"num_clusters\"],cluster_df[\"cluster_errors\"],marker=\"o\",color=\"r\")\n"
   ]
  },
  {
   "cell_type": "markdown",
   "id": "0ccf693b",
   "metadata": {},
   "source": [
    "from elbow plot we can see at the cluste k =5 the inertia decreases significantly"
   ]
  },
  {
   "cell_type": "code",
   "execution_count": 1046,
   "id": "3a57e524",
   "metadata": {},
   "outputs": [
    {
     "data": {
      "text/html": [
       "<style>#sk-container-id-15 {color: black;background-color: white;}#sk-container-id-15 pre{padding: 0;}#sk-container-id-15 div.sk-toggleable {background-color: white;}#sk-container-id-15 label.sk-toggleable__label {cursor: pointer;display: block;width: 100%;margin-bottom: 0;padding: 0.3em;box-sizing: border-box;text-align: center;}#sk-container-id-15 label.sk-toggleable__label-arrow:before {content: \"▸\";float: left;margin-right: 0.25em;color: #696969;}#sk-container-id-15 label.sk-toggleable__label-arrow:hover:before {color: black;}#sk-container-id-15 div.sk-estimator:hover label.sk-toggleable__label-arrow:before {color: black;}#sk-container-id-15 div.sk-toggleable__content {max-height: 0;max-width: 0;overflow: hidden;text-align: left;background-color: #f0f8ff;}#sk-container-id-15 div.sk-toggleable__content pre {margin: 0.2em;color: black;border-radius: 0.25em;background-color: #f0f8ff;}#sk-container-id-15 input.sk-toggleable__control:checked~div.sk-toggleable__content {max-height: 200px;max-width: 100%;overflow: auto;}#sk-container-id-15 input.sk-toggleable__control:checked~label.sk-toggleable__label-arrow:before {content: \"▾\";}#sk-container-id-15 div.sk-estimator input.sk-toggleable__control:checked~label.sk-toggleable__label {background-color: #d4ebff;}#sk-container-id-15 div.sk-label input.sk-toggleable__control:checked~label.sk-toggleable__label {background-color: #d4ebff;}#sk-container-id-15 input.sk-hidden--visually {border: 0;clip: rect(1px 1px 1px 1px);clip: rect(1px, 1px, 1px, 1px);height: 1px;margin: -1px;overflow: hidden;padding: 0;position: absolute;width: 1px;}#sk-container-id-15 div.sk-estimator {font-family: monospace;background-color: #f0f8ff;border: 1px dotted black;border-radius: 0.25em;box-sizing: border-box;margin-bottom: 0.5em;}#sk-container-id-15 div.sk-estimator:hover {background-color: #d4ebff;}#sk-container-id-15 div.sk-parallel-item::after {content: \"\";width: 100%;border-bottom: 1px solid gray;flex-grow: 1;}#sk-container-id-15 div.sk-label:hover label.sk-toggleable__label {background-color: #d4ebff;}#sk-container-id-15 div.sk-serial::before {content: \"\";position: absolute;border-left: 1px solid gray;box-sizing: border-box;top: 0;bottom: 0;left: 50%;z-index: 0;}#sk-container-id-15 div.sk-serial {display: flex;flex-direction: column;align-items: center;background-color: white;padding-right: 0.2em;padding-left: 0.2em;position: relative;}#sk-container-id-15 div.sk-item {position: relative;z-index: 1;}#sk-container-id-15 div.sk-parallel {display: flex;align-items: stretch;justify-content: center;background-color: white;position: relative;}#sk-container-id-15 div.sk-item::before, #sk-container-id-15 div.sk-parallel-item::before {content: \"\";position: absolute;border-left: 1px solid gray;box-sizing: border-box;top: 0;bottom: 0;left: 50%;z-index: -1;}#sk-container-id-15 div.sk-parallel-item {display: flex;flex-direction: column;z-index: 1;position: relative;background-color: white;}#sk-container-id-15 div.sk-parallel-item:first-child::after {align-self: flex-end;width: 50%;}#sk-container-id-15 div.sk-parallel-item:last-child::after {align-self: flex-start;width: 50%;}#sk-container-id-15 div.sk-parallel-item:only-child::after {width: 0;}#sk-container-id-15 div.sk-dashed-wrapped {border: 1px dashed gray;margin: 0 0.4em 0.5em 0.4em;box-sizing: border-box;padding-bottom: 0.4em;background-color: white;}#sk-container-id-15 div.sk-label label {font-family: monospace;font-weight: bold;display: inline-block;line-height: 1.2em;}#sk-container-id-15 div.sk-label-container {text-align: center;}#sk-container-id-15 div.sk-container {/* jupyter's `normalize.less` sets `[hidden] { display: none; }` but bootstrap.min.css set `[hidden] { display: none !important; }` so we also need the `!important` here to be able to override the default hidden behavior on the sphinx rendered scikit-learn.org. See: https://github.com/scikit-learn/scikit-learn/issues/21755 */display: inline-block !important;position: relative;}#sk-container-id-15 div.sk-text-repr-fallback {display: none;}</style><div id=\"sk-container-id-15\" class=\"sk-top-container\"><div class=\"sk-text-repr-fallback\"><pre>KMeans(n_clusters=5, random_state=100)</pre><b>In a Jupyter environment, please rerun this cell to show the HTML representation or trust the notebook. <br />On GitHub, the HTML representation is unable to render, please try loading this page with nbviewer.org.</b></div><div class=\"sk-container\" hidden><div class=\"sk-item\"><div class=\"sk-estimator sk-toggleable\"><input class=\"sk-toggleable__control sk-hidden--visually\" id=\"sk-estimator-id-15\" type=\"checkbox\" checked><label for=\"sk-estimator-id-15\" class=\"sk-toggleable__label sk-toggleable__label-arrow\">KMeans</label><div class=\"sk-toggleable__content\"><pre>KMeans(n_clusters=5, random_state=100)</pre></div></div></div></div></div>"
      ],
      "text/plain": [
       "KMeans(n_clusters=5, random_state=100)"
      ]
     },
     "execution_count": 1046,
     "metadata": {},
     "output_type": "execute_result"
    }
   ],
   "source": [
    "kmeans=KMeans(n_clusters=5,random_state=100) \n",
    "kmeans.fit(pca_df)\n"
   ]
  },
  {
   "cell_type": "code",
   "execution_count": 1047,
   "id": "3bf61a74",
   "metadata": {},
   "outputs": [],
   "source": [
    "label=pd.DataFrame(kmeans.labels_,columns=[\"label\"])\n"
   ]
  },
  {
   "cell_type": "code",
   "execution_count": 1048,
   "id": "a89a28c0",
   "metadata": {},
   "outputs": [
    {
     "data": {
      "text/html": [
       "<div>\n",
       "<style scoped>\n",
       "    .dataframe tbody tr th:only-of-type {\n",
       "        vertical-align: middle;\n",
       "    }\n",
       "\n",
       "    .dataframe tbody tr th {\n",
       "        vertical-align: top;\n",
       "    }\n",
       "\n",
       "    .dataframe thead th {\n",
       "        text-align: right;\n",
       "    }\n",
       "</style>\n",
       "<table border=\"1\" class=\"dataframe\">\n",
       "  <thead>\n",
       "    <tr style=\"text-align: right;\">\n",
       "      <th></th>\n",
       "      <th>pc1</th>\n",
       "      <th>pc2</th>\n",
       "      <th>pc3</th>\n",
       "      <th>pc4</th>\n",
       "      <th>pc5</th>\n",
       "      <th>pc6</th>\n",
       "      <th>pc7</th>\n",
       "      <th>pc8</th>\n",
       "      <th>pc9</th>\n",
       "      <th>label</th>\n",
       "    </tr>\n",
       "  </thead>\n",
       "  <tbody>\n",
       "    <tr>\n",
       "      <th>0</th>\n",
       "      <td>1.956902</td>\n",
       "      <td>-0.081936</td>\n",
       "      <td>-0.344667</td>\n",
       "      <td>1.193687</td>\n",
       "      <td>-0.696970</td>\n",
       "      <td>-0.299137</td>\n",
       "      <td>-1.145041</td>\n",
       "      <td>-0.358094</td>\n",
       "      <td>-1.576873</td>\n",
       "      <td>2</td>\n",
       "    </tr>\n",
       "    <tr>\n",
       "      <th>1</th>\n",
       "      <td>-1.512598</td>\n",
       "      <td>1.000666</td>\n",
       "      <td>-0.367106</td>\n",
       "      <td>1.006953</td>\n",
       "      <td>-0.445000</td>\n",
       "      <td>1.371965</td>\n",
       "      <td>-0.724374</td>\n",
       "      <td>-0.346359</td>\n",
       "      <td>0.972746</td>\n",
       "      <td>4</td>\n",
       "    </tr>\n",
       "    <tr>\n",
       "      <th>2</th>\n",
       "      <td>1.314538</td>\n",
       "      <td>-0.299417</td>\n",
       "      <td>0.296366</td>\n",
       "      <td>-0.764913</td>\n",
       "      <td>0.732877</td>\n",
       "      <td>0.984394</td>\n",
       "      <td>0.025389</td>\n",
       "      <td>0.058563</td>\n",
       "      <td>-0.735851</td>\n",
       "      <td>2</td>\n",
       "    </tr>\n",
       "    <tr>\n",
       "      <th>3</th>\n",
       "      <td>-1.755094</td>\n",
       "      <td>-1.139847</td>\n",
       "      <td>-0.254499</td>\n",
       "      <td>-0.825065</td>\n",
       "      <td>0.579217</td>\n",
       "      <td>0.221975</td>\n",
       "      <td>0.562426</td>\n",
       "      <td>0.239541</td>\n",
       "      <td>0.005032</td>\n",
       "      <td>1</td>\n",
       "    </tr>\n",
       "    <tr>\n",
       "      <th>4</th>\n",
       "      <td>0.063584</td>\n",
       "      <td>0.571435</td>\n",
       "      <td>0.902243</td>\n",
       "      <td>-0.757574</td>\n",
       "      <td>-0.794825</td>\n",
       "      <td>-1.241683</td>\n",
       "      <td>1.325626</td>\n",
       "      <td>0.898316</td>\n",
       "      <td>-0.016878</td>\n",
       "      <td>4</td>\n",
       "    </tr>\n",
       "  </tbody>\n",
       "</table>\n",
       "</div>"
      ],
      "text/plain": [
       "        pc1       pc2       pc3       pc4       pc5       pc6       pc7   \n",
       "0  1.956902 -0.081936 -0.344667  1.193687 -0.696970 -0.299137 -1.145041  \\\n",
       "1 -1.512598  1.000666 -0.367106  1.006953 -0.445000  1.371965 -0.724374   \n",
       "2  1.314538 -0.299417  0.296366 -0.764913  0.732877  0.984394  0.025389   \n",
       "3 -1.755094 -1.139847 -0.254499 -0.825065  0.579217  0.221975  0.562426   \n",
       "4  0.063584  0.571435  0.902243 -0.757574 -0.794825 -1.241683  1.325626   \n",
       "\n",
       "        pc8       pc9  label  \n",
       "0 -0.358094 -1.576873      2  \n",
       "1 -0.346359  0.972746      4  \n",
       "2  0.058563 -0.735851      2  \n",
       "3  0.239541  0.005032      1  \n",
       "4  0.898316 -0.016878      4  "
      ]
     },
     "execution_count": 1048,
     "metadata": {},
     "output_type": "execute_result"
    }
   ],
   "source": [
    "kmeans_df=pca_df.join(label)\n",
    "kmeans_df.head()\n"
   ]
  },
  {
   "cell_type": "code",
   "execution_count": 1054,
   "id": "10a7eeef",
   "metadata": {},
   "outputs": [
    {
     "data": {
      "image/png": "[encoded data removed]",
      "text/plain": [
       "<Figure size 640x480 with 1 Axes>"
      ]
     },
     "metadata": {},
     "output_type": "display_data"
    }
   ],
   "source": [
    "sns.scatterplot(x=kmeans_df[\"pc1\"],y=kmeans_df[\"pc2\"],hue=\"label\",data=kmeans_df)\n",
    "plt.show()"
   ]
  },
  {
   "cell_type": "markdown",
   "id": "129eb114",
   "metadata": {},
   "source": [
    "### 17. Apply Agglomerative clustering and segment the data (Use Original data for clustering), and perform cluster analysis by doing bivariate analysis between the cluster label and different features and write your observations."
   ]
  },
  {
   "cell_type": "markdown",
   "id": "f27f1a2b",
   "metadata": {},
   "source": [
    "Apply Agglomerative clustering and segment the data"
   ]
  },
  {
   "cell_type": "code",
   "execution_count": 1055,
   "id": "9a795ef7",
   "metadata": {},
   "outputs": [
    {
     "data": {
      "image/png": "[encoded data removed]",
      "text/plain": [
       "<Figure size 1800x500 with 1 Axes>"
      ]
     },
     "metadata": {},
     "output_type": "display_data"
    }
   ],
   "source": [
    "plt.figure(figsize=[18,5])\n",
    "merg = linkage(scaled_features_df,method=\"ward\")\n",
    "dendrogram(merg,leaf_rotation=90,)\n",
    "plt.xlabel(\"datapoints\")\n",
    "plt.ylabel(\"Eucalidean distance\")\n",
    "plt.show()"
   ]
  },
  {
   "cell_type": "markdown",
   "id": "c015e33a",
   "metadata": {},
   "source": [
    "Computing silhoutte score"
   ]
  },
  {
   "cell_type": "code",
   "execution_count": 1056,
   "id": "65bfd336",
   "metadata": {},
   "outputs": [],
   "source": [
    "from sklearn.metrics import silhouette_score"
   ]
  },
  {
   "cell_type": "code",
   "execution_count": 1057,
   "id": "d428a038",
   "metadata": {},
   "outputs": [
    {
     "name": "stdout",
     "output_type": "stream",
     "text": [
      "2 0.19083932398841263\n",
      "3 0.19859065923121116\n",
      "4 0.11245037433445754\n",
      "5 0.1142462175685332\n",
      "6 0.13181821517770267\n",
      "7 0.13957002140192074\n",
      "8 0.1390706310270007\n",
      "9 0.11337088108590954\n",
      "10 0.11192131225156017\n",
      "11 0.10382081162153395\n",
      "12 0.10893099764800893\n",
      "13 0.1023394958833542\n",
      "14 0.09549869159604249\n"
     ]
    }
   ],
   "source": [
    "for i in range(2,15):\n",
    "    hi=AgglomerativeClustering(n_clusters=i)\n",
    "    hi=hi.fit(scaled_features_df)\n",
    "    labels=hi.fit_predict(scaled_features_df)\n",
    "    print(i,silhouette_score(scaled_features_df,labels))"
   ]
  },
  {
   "cell_type": "markdown",
   "id": "8fe6ef38",
   "metadata": {},
   "source": [
    "the highest silhouette_score is for cluster 3\n",
    "so lets choose k=3 as optimal cluster size"
   ]
  },
  {
   "cell_type": "code",
   "execution_count": 1058,
   "id": "5d45c1a1",
   "metadata": {},
   "outputs": [],
   "source": [
    "hi_cluster=AgglomerativeClustering(n_clusters=3,affinity=\"euclidean\",linkage=\"ward\")\n",
    "hi_cluster_model=hi_cluster.fit(scaled_features_df)\n"
   ]
  },
  {
   "cell_type": "code",
   "execution_count": 1059,
   "id": "d61f4e32",
   "metadata": {},
   "outputs": [
    {
     "data": {
      "text/html": [
       "<div>\n",
       "<style scoped>\n",
       "    .dataframe tbody tr th:only-of-type {\n",
       "        vertical-align: middle;\n",
       "    }\n",
       "\n",
       "    .dataframe tbody tr th {\n",
       "        vertical-align: top;\n",
       "    }\n",
       "\n",
       "    .dataframe thead th {\n",
       "        text-align: right;\n",
       "    }\n",
       "</style>\n",
       "<table border=\"1\" class=\"dataframe\">\n",
       "  <thead>\n",
       "    <tr style=\"text-align: right;\">\n",
       "      <th></th>\n",
       "      <th>labels</th>\n",
       "    </tr>\n",
       "  </thead>\n",
       "  <tbody>\n",
       "    <tr>\n",
       "      <th>0</th>\n",
       "      <td>0</td>\n",
       "    </tr>\n",
       "    <tr>\n",
       "      <th>1</th>\n",
       "      <td>1</td>\n",
       "    </tr>\n",
       "    <tr>\n",
       "      <th>2</th>\n",
       "      <td>0</td>\n",
       "    </tr>\n",
       "    <tr>\n",
       "      <th>3</th>\n",
       "      <td>1</td>\n",
       "    </tr>\n",
       "    <tr>\n",
       "      <th>4</th>\n",
       "      <td>0</td>\n",
       "    </tr>\n",
       "  </tbody>\n",
       "</table>\n",
       "</div>"
      ],
      "text/plain": [
       "   labels\n",
       "0       0\n",
       "1       1\n",
       "2       0\n",
       "3       1\n",
       "4       0"
      ]
     },
     "execution_count": 1059,
     "metadata": {},
     "output_type": "execute_result"
    }
   ],
   "source": [
    "df_label1=pd.DataFrame(hi_cluster_model.labels_,columns=[\"labels\"])\n",
    "df_label1.head()"
   ]
  },
  {
   "cell_type": "code",
   "execution_count": 1060,
   "id": "a82998d5",
   "metadata": {},
   "outputs": [
    {
     "data": {
      "text/html": [
       "<div>\n",
       "<style scoped>\n",
       "    .dataframe tbody tr th:only-of-type {\n",
       "        vertical-align: middle;\n",
       "    }\n",
       "\n",
       "    .dataframe tbody tr th {\n",
       "        vertical-align: top;\n",
       "    }\n",
       "\n",
       "    .dataframe thead th {\n",
       "        text-align: right;\n",
       "    }\n",
       "</style>\n",
       "<table border=\"1\" class=\"dataframe\">\n",
       "  <thead>\n",
       "    <tr style=\"text-align: right;\">\n",
       "      <th></th>\n",
       "      <th>Education</th>\n",
       "      <th>Marital_Status</th>\n",
       "      <th>Income</th>\n",
       "      <th>Recency</th>\n",
       "      <th>NumWebVisitsMonth</th>\n",
       "      <th>Complain</th>\n",
       "      <th>Total_Expenses</th>\n",
       "      <th>Num_Total_Purchases</th>\n",
       "      <th>Kids</th>\n",
       "      <th>TotalAcceptedCmp</th>\n",
       "      <th>age</th>\n",
       "      <th>labels</th>\n",
       "    </tr>\n",
       "  </thead>\n",
       "  <tbody>\n",
       "    <tr>\n",
       "      <th>0</th>\n",
       "      <td>Graduation</td>\n",
       "      <td>Single</td>\n",
       "      <td>58138.0</td>\n",
       "      <td>58</td>\n",
       "      <td>7</td>\n",
       "      <td>0</td>\n",
       "      <td>1617</td>\n",
       "      <td>25</td>\n",
       "      <td>0</td>\n",
       "      <td>1</td>\n",
       "      <td>66</td>\n",
       "      <td>0</td>\n",
       "    </tr>\n",
       "    <tr>\n",
       "      <th>1</th>\n",
       "      <td>Graduation</td>\n",
       "      <td>Single</td>\n",
       "      <td>46344.0</td>\n",
       "      <td>38</td>\n",
       "      <td>5</td>\n",
       "      <td>0</td>\n",
       "      <td>27</td>\n",
       "      <td>6</td>\n",
       "      <td>2</td>\n",
       "      <td>0</td>\n",
       "      <td>69</td>\n",
       "      <td>1</td>\n",
       "    </tr>\n",
       "    <tr>\n",
       "      <th>2</th>\n",
       "      <td>Graduation</td>\n",
       "      <td>relationship</td>\n",
       "      <td>71613.0</td>\n",
       "      <td>26</td>\n",
       "      <td>4</td>\n",
       "      <td>0</td>\n",
       "      <td>776</td>\n",
       "      <td>21</td>\n",
       "      <td>0</td>\n",
       "      <td>0</td>\n",
       "      <td>58</td>\n",
       "      <td>0</td>\n",
       "    </tr>\n",
       "    <tr>\n",
       "      <th>3</th>\n",
       "      <td>Graduation</td>\n",
       "      <td>relationship</td>\n",
       "      <td>26646.0</td>\n",
       "      <td>26</td>\n",
       "      <td>6</td>\n",
       "      <td>0</td>\n",
       "      <td>53</td>\n",
       "      <td>8</td>\n",
       "      <td>1</td>\n",
       "      <td>0</td>\n",
       "      <td>39</td>\n",
       "      <td>1</td>\n",
       "    </tr>\n",
       "    <tr>\n",
       "      <th>4</th>\n",
       "      <td>PhD</td>\n",
       "      <td>relationship</td>\n",
       "      <td>58293.0</td>\n",
       "      <td>94</td>\n",
       "      <td>5</td>\n",
       "      <td>0</td>\n",
       "      <td>422</td>\n",
       "      <td>19</td>\n",
       "      <td>1</td>\n",
       "      <td>0</td>\n",
       "      <td>42</td>\n",
       "      <td>0</td>\n",
       "    </tr>\n",
       "  </tbody>\n",
       "</table>\n",
       "</div>"
      ],
      "text/plain": [
       "    Education Marital_Status   Income  Recency  NumWebVisitsMonth  Complain   \n",
       "0  Graduation         Single  58138.0       58                  7         0  \\\n",
       "1  Graduation         Single  46344.0       38                  5         0   \n",
       "2  Graduation   relationship  71613.0       26                  4         0   \n",
       "3  Graduation   relationship  26646.0       26                  6         0   \n",
       "4         PhD   relationship  58293.0       94                  5         0   \n",
       "\n",
       "   Total_Expenses  Num_Total_Purchases  Kids  TotalAcceptedCmp  age  labels  \n",
       "0            1617                   25     0                 1   66       0  \n",
       "1              27                    6     2                 0   69       1  \n",
       "2             776                   21     0                 0   58       0  \n",
       "3              53                    8     1                 0   39       1  \n",
       "4             422                   19     1                 0   42       0  "
      ]
     },
     "execution_count": 1060,
     "metadata": {},
     "output_type": "execute_result"
    }
   ],
   "source": [
    "hi=dfc.join(df_label1)\n",
    "hi.head()"
   ]
  },
  {
   "cell_type": "markdown",
   "id": "1fe82acd",
   "metadata": {},
   "source": [
    "visualization"
   ]
  },
  {
   "cell_type": "code",
   "execution_count": 1061,
   "id": "ee32fd74",
   "metadata": {},
   "outputs": [
    {
     "data": {
      "text/plain": [
       "<Axes: xlabel='labels', ylabel='Total_Expenses'>"
      ]
     },
     "execution_count": 1061,
     "metadata": {},
     "output_type": "execute_result"
    },
    {
     "data": {
      "image/png": "[encoded data removed]",
      "text/plain": [
       "<Figure size 640x480 with 1 Axes>"
      ]
     },
     "metadata": {},
     "output_type": "display_data"
    }
   ],
   "source": [
    "sns.barplot(x=hi[\"labels\"],y=hi[\"Total_Expenses\"])"
   ]
  },
  {
   "cell_type": "markdown",
   "id": "4ba4e934",
   "metadata": {},
   "source": [
    "total expenses for cluster 0 is more than cluster 1 and 2"
   ]
  },
  {
   "cell_type": "code",
   "execution_count": 1068,
   "id": "940e1a86",
   "metadata": {},
   "outputs": [
    {
     "data": {
      "text/plain": [
       "<Axes: xlabel='labels', ylabel='Income'>"
      ]
     },
     "execution_count": 1068,
     "metadata": {},
     "output_type": "execute_result"
    },
    {
     "data": {
      "image/png": "[encoded data removed]",
      "text/plain": [
       "<Figure size 640x480 with 1 Axes>"
      ]
     },
     "metadata": {},
     "output_type": "display_data"
    }
   ],
   "source": [
    "sns.barplot(x=hi[\"labels\"],y=hi[\"Income\"])"
   ]
  },
  {
   "cell_type": "code",
   "execution_count": null,
   "id": "9acb591c",
   "metadata": {},
   "outputs": [],
   "source": [
    "income is much higher for cluster 0 "
   ]
  },
  {
   "cell_type": "code",
   "execution_count": 1066,
   "id": "60064ee4",
   "metadata": {},
   "outputs": [
    {
     "data": {
      "text/plain": [
       "<Axes: xlabel='Marital_Status', ylabel='count'>"
      ]
     },
     "execution_count": 1066,
     "metadata": {},
     "output_type": "execute_result"
    },
    {
     "data": {
      "image/png": "[encoded data removed]",
      "text/plain": [
       "<Figure size 640x480 with 1 Axes>"
      ]
     },
     "metadata": {},
     "output_type": "display_data"
    }
   ],
   "source": [
    "sns.countplot(x=hi[\"Marital_Status\"],hue=\"labels\" , data=hi )"
   ]
  },
  {
   "cell_type": "code",
   "execution_count": null,
   "id": "078c14b6",
   "metadata": {},
   "outputs": [],
   "source": [
    "most of the customers who are in a relationship fall under cluster 0"
   ]
  },
  {
   "cell_type": "code",
   "execution_count": 1071,
   "id": "134b8ff4",
   "metadata": {},
   "outputs": [
    {
     "data": {
      "text/plain": [
       "<Axes: xlabel='labels', ylabel='Num_Total_Purchases'>"
      ]
     },
     "execution_count": 1071,
     "metadata": {},
     "output_type": "execute_result"
    },
    {
     "data": {
      "image/png": "[encoded data removed]",
      "text/plain": [
       "<Figure size 640x480 with 1 Axes>"
      ]
     },
     "metadata": {},
     "output_type": "display_data"
    }
   ],
   "source": [
    "sns.barplot(x=hi[\"labels\"],y=hi[\"Num_Total_Purchases\"])"
   ]
  },
  {
   "cell_type": "markdown",
   "id": "85f0f6b2",
   "metadata": {},
   "source": [
    "total number of purchases is higher for customers from cluster 0 than 1 and 2"
   ]
  },
  {
   "cell_type": "code",
   "execution_count": null,
   "id": "9648841a",
   "metadata": {},
   "outputs": [],
   "source": [
    "customers from cluster 0 have higher income , higher total spending and higer total purchase\n",
    "customers for cluster 1 have least income least total expenses and buy less products\n",
    "customers for cluster 2 have avg income , avg total expenses and buy avg number of products"
   ]
  }
 ],
 "metadata": {
  "kernelspec": {
   "display_name": "Python 3 (ipykernel)",
   "language": "python",
   "name": "python3"
  },
  "language_info": {
   "codemirror_mode": {
    "name": "ipython",
    "version": 3
   },
   "file_extension": ".py",
   "mimetype": "text/x-python",
   "name": "python",
   "nbconvert_exporter": "python",
   "pygments_lexer": "ipython3",
   "version": "3.10.11"
  }
 },
 "nbformat": 4,
 "nbformat_minor": 5
}
